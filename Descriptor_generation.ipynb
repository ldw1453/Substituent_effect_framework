{
 "cells": [
  {
   "cell_type": "markdown",
   "id": "4291cc5f",
   "metadata": {},
   "source": [
    "# import"
   ]
  },
  {
   "cell_type": "code",
   "execution_count": 1,
   "id": "6e38dc7d",
   "metadata": {
    "ExecuteTime": {
     "end_time": "2023-05-07T08:27:02.480345Z",
     "start_time": "2023-05-07T08:27:01.883093Z"
    }
   },
   "outputs": [],
   "source": [
    "import rdkit\n",
    "from rdkit import Chem\n",
    "from rdkit.Chem import AllChem\n",
    "import pandas as pd\n",
    "from pandas import DataFrame\n",
    "from os import sep\n",
    "import numpy as np\n",
    "import re\n",
    "from sklearn.preprocessing import OneHotEncoder\n",
    "import csv\n",
    "from morfeus import BuriedVolume,Sterimol,XTB,read_xyz\n",
    "import xtb\n",
    "from Mol_script import Molecule,get_onestart_path,get_onestart_end_path,get_formed_path"
   ]
  },
  {
   "cell_type": "code",
   "execution_count": 5,
   "id": "39e7ab79",
   "metadata": {
    "ExecuteTime": {
     "end_time": "2023-05-07T08:29:50.402326Z",
     "start_time": "2023-05-07T08:29:50.398711Z"
    }
   },
   "outputs": [
    {
     "data": {
      "text/plain": [
       "'20.2'"
      ]
     },
     "execution_count": 5,
     "metadata": {},
     "output_type": "execute_result"
    }
   ],
   "source": [
    "import xtb\n",
    "xtb.__version__"
   ]
  },
  {
   "cell_type": "markdown",
   "id": "1a93fc67",
   "metadata": {},
   "source": [
    "# function"
   ]
  },
  {
   "cell_type": "code",
   "execution_count": 2,
   "id": "c0ed2314",
   "metadata": {
    "ExecuteTime": {
     "end_time": "2023-05-07T04:24:37.400946Z",
     "start_time": "2023-05-07T04:24:37.395552Z"
    }
   },
   "outputs": [],
   "source": [
    "def sta_smi(smi):\n",
    "    return Chem.MolToSmiles(Chem.MolFromSmiles(smi))\n",
    "def sta_list_smi(list_smi):\n",
    "    return list(map(sta_smi,list_smi))\n",
    "#描述符归一化\n",
    "def f_des_std(des,des_name):\n",
    "    sta_des = []\n",
    "    sta_des_name = []\n",
    "    for i in range(np.shape(des)[1]):\n",
    "        tmp_des = des[:,i]\n",
    "        if tmp_des.max()!=tmp_des.min():\n",
    "            tmp_des = (tmp_des-tmp_des.min())/(tmp_des.max()-tmp_des.min())\n",
    "            sta_des.append(tmp_des)\n",
    "            sta_des_name.append(des_name[i])\n",
    "    sta_des = np.transpose(sta_des)\n",
    "    return sta_des,sta_des_name"
   ]
  },
  {
   "cell_type": "markdown",
   "id": "7b7dff73",
   "metadata": {},
   "source": [
    "# data"
   ]
  },
  {
   "cell_type": "markdown",
   "id": "29f46020",
   "metadata": {},
   "source": [
    "## data input"
   ]
  },
  {
   "cell_type": "code",
   "execution_count": 3,
   "id": "6cd4decf",
   "metadata": {
    "ExecuteTime": {
     "end_time": "2023-05-07T04:24:44.596691Z",
     "start_time": "2023-05-07T04:24:44.580644Z"
    }
   },
   "outputs": [
    {
     "data": {
      "text/html": [
       "<div>\n",
       "<style scoped>\n",
       "    .dataframe tbody tr th:only-of-type {\n",
       "        vertical-align: middle;\n",
       "    }\n",
       "\n",
       "    .dataframe tbody tr th {\n",
       "        vertical-align: top;\n",
       "    }\n",
       "\n",
       "    .dataframe thead th {\n",
       "        text-align: right;\n",
       "    }\n",
       "</style>\n",
       "<table border=\"1\" class=\"dataframe\">\n",
       "  <thead>\n",
       "    <tr style=\"text-align: right;\">\n",
       "      <th></th>\n",
       "      <th>Catalyst</th>\n",
       "      <th>Imine</th>\n",
       "      <th>Thiol</th>\n",
       "      <th>Output</th>\n",
       "    </tr>\n",
       "  </thead>\n",
       "  <tbody>\n",
       "    <tr>\n",
       "      <th>0</th>\n",
       "      <td>O=P1(O)OC2=C(C3=CC=CC=C3)C=C4C(C=CC=C4)=C2C5=C...</td>\n",
       "      <td>O=C(C1=CC=CC=C1)/N=C/C2=CC=C(C(F)(F)F)C=C2</td>\n",
       "      <td>CCS</td>\n",
       "      <td>0.501759</td>\n",
       "    </tr>\n",
       "    <tr>\n",
       "      <th>1</th>\n",
       "      <td>O=P1(O)OC2=C(C3=C(F)C=C(OC)C=C3F)C=C4C(C=CC=C4...</td>\n",
       "      <td>O=C(C1=CC=CC=C1)/N=C/C2=CC=C(C(F)(F)F)C=C2</td>\n",
       "      <td>CCS</td>\n",
       "      <td>1.074991</td>\n",
       "    </tr>\n",
       "    <tr>\n",
       "      <th>2</th>\n",
       "      <td>O=P1(O)OC2=C(C3=C(C)C=C(C)C=C3C)C=C4C(C=CC=C4)...</td>\n",
       "      <td>O=C(C1=CC=CC=C1)/N=C/C2=CC=C(C(F)(F)F)C=C2</td>\n",
       "      <td>CCS</td>\n",
       "      <td>1.179891</td>\n",
       "    </tr>\n",
       "    <tr>\n",
       "      <th>3</th>\n",
       "      <td>O=P1(O)OC2=C(C3=CC(C)=C(OC(C)C)C(C)=C3)C=C4C(C...</td>\n",
       "      <td>O=C(C1=CC=CC=C1)/N=C/C2=CC=C(C(F)(F)F)C=C2</td>\n",
       "      <td>CCS</td>\n",
       "      <td>0.446374</td>\n",
       "    </tr>\n",
       "    <tr>\n",
       "      <th>4</th>\n",
       "      <td>O=P1(O)OC2=C(C3=CC=C(S(F)(F)(F)(F)F)C=C3)C=C4C...</td>\n",
       "      <td>O=C(C1=CC=CC=C1)/N=C/C2=CC=C(C(F)(F)F)C=C2</td>\n",
       "      <td>CCS</td>\n",
       "      <td>0.530235</td>\n",
       "    </tr>\n",
       "    <tr>\n",
       "      <th>...</th>\n",
       "      <td>...</td>\n",
       "      <td>...</td>\n",
       "      <td>...</td>\n",
       "      <td>...</td>\n",
       "    </tr>\n",
       "    <tr>\n",
       "      <th>1070</th>\n",
       "      <td>O=P1(O)OC2=C(C3=CC(C(F)(F)F)=CC(C(F)(F)F)=C3)C...</td>\n",
       "      <td>O=C(C1=CC=CC=C1)/N=C/C2=CC=CC3=C2C=CC=C3</td>\n",
       "      <td>SC1CCCCC1</td>\n",
       "      <td>0.682601</td>\n",
       "    </tr>\n",
       "    <tr>\n",
       "      <th>1071</th>\n",
       "      <td>O=P1(O)OC2=C(C3=C(C(C)C)C=C(C(C)C)C=C3C(C)C)C=...</td>\n",
       "      <td>O=C(C1=CC=CC=C1)/N=C/C2=CC=CC3=C2C=CC=C3</td>\n",
       "      <td>SC1CCCCC1</td>\n",
       "      <td>1.743658</td>\n",
       "    </tr>\n",
       "    <tr>\n",
       "      <th>1072</th>\n",
       "      <td>O=P1(O)OC2=C(C3=C(C4CCCCC4)C=C(C5CCCCC5)C=C3C6...</td>\n",
       "      <td>O=C(C1=CC=CC=C1)/N=C/C2=CC=CC3=C2C=CC=C3</td>\n",
       "      <td>SC1CCCCC1</td>\n",
       "      <td>1.743658</td>\n",
       "    </tr>\n",
       "    <tr>\n",
       "      <th>1073</th>\n",
       "      <td>O=P1(O)OC2=C(C3=C(C(C)C)C=C(C4=CC=C(C(C)(C)C)C...</td>\n",
       "      <td>O=C(C1=CC=CC=C1)/N=C/C2=CC=CC3=C2C=CC=C3</td>\n",
       "      <td>SC1CCCCC1</td>\n",
       "      <td>1.446325</td>\n",
       "    </tr>\n",
       "    <tr>\n",
       "      <th>1074</th>\n",
       "      <td>O=P1(O)OC2=C(C3=C(C=CC4=CC=CC(C=C5)=C46)C6=C5C...</td>\n",
       "      <td>O=C(C1=CC=CC=C1)/N=C/C2=CC=CC3=C2C=CC=C3</td>\n",
       "      <td>SC1CCCCC1</td>\n",
       "      <td>1.743658</td>\n",
       "    </tr>\n",
       "  </tbody>\n",
       "</table>\n",
       "<p>1075 rows × 4 columns</p>\n",
       "</div>"
      ],
      "text/plain": [
       "                                               Catalyst  \\\n",
       "0     O=P1(O)OC2=C(C3=CC=CC=C3)C=C4C(C=CC=C4)=C2C5=C...   \n",
       "1     O=P1(O)OC2=C(C3=C(F)C=C(OC)C=C3F)C=C4C(C=CC=C4...   \n",
       "2     O=P1(O)OC2=C(C3=C(C)C=C(C)C=C3C)C=C4C(C=CC=C4)...   \n",
       "3     O=P1(O)OC2=C(C3=CC(C)=C(OC(C)C)C(C)=C3)C=C4C(C...   \n",
       "4     O=P1(O)OC2=C(C3=CC=C(S(F)(F)(F)(F)F)C=C3)C=C4C...   \n",
       "...                                                 ...   \n",
       "1070  O=P1(O)OC2=C(C3=CC(C(F)(F)F)=CC(C(F)(F)F)=C3)C...   \n",
       "1071  O=P1(O)OC2=C(C3=C(C(C)C)C=C(C(C)C)C=C3C(C)C)C=...   \n",
       "1072  O=P1(O)OC2=C(C3=C(C4CCCCC4)C=C(C5CCCCC5)C=C3C6...   \n",
       "1073  O=P1(O)OC2=C(C3=C(C(C)C)C=C(C4=CC=C(C(C)(C)C)C...   \n",
       "1074  O=P1(O)OC2=C(C3=C(C=CC4=CC=CC(C=C5)=C46)C6=C5C...   \n",
       "\n",
       "                                           Imine      Thiol    Output  \n",
       "0     O=C(C1=CC=CC=C1)/N=C/C2=CC=C(C(F)(F)F)C=C2        CCS  0.501759  \n",
       "1     O=C(C1=CC=CC=C1)/N=C/C2=CC=C(C(F)(F)F)C=C2        CCS  1.074991  \n",
       "2     O=C(C1=CC=CC=C1)/N=C/C2=CC=C(C(F)(F)F)C=C2        CCS  1.179891  \n",
       "3     O=C(C1=CC=CC=C1)/N=C/C2=CC=C(C(F)(F)F)C=C2        CCS  0.446374  \n",
       "4     O=C(C1=CC=CC=C1)/N=C/C2=CC=C(C(F)(F)F)C=C2        CCS  0.530235  \n",
       "...                                          ...        ...       ...  \n",
       "1070    O=C(C1=CC=CC=C1)/N=C/C2=CC=CC3=C2C=CC=C3  SC1CCCCC1  0.682601  \n",
       "1071    O=C(C1=CC=CC=C1)/N=C/C2=CC=CC3=C2C=CC=C3  SC1CCCCC1  1.743658  \n",
       "1072    O=C(C1=CC=CC=C1)/N=C/C2=CC=CC3=C2C=CC=C3  SC1CCCCC1  1.743658  \n",
       "1073    O=C(C1=CC=CC=C1)/N=C/C2=CC=CC3=C2C=CC=C3  SC1CCCCC1  1.446325  \n",
       "1074    O=C(C1=CC=CC=C1)/N=C/C2=CC=CC3=C2C=CC=C3  SC1CCCCC1  1.743658  \n",
       "\n",
       "[1075 rows x 4 columns]"
      ]
     },
     "execution_count": 3,
     "metadata": {},
     "output_type": "execute_result"
    }
   ],
   "source": [
    "df = pd.read_csv('dataset'+sep+'danmark.csv')\n",
    "\n",
    "Catalyst = df['Catalyst'].to_list()\n",
    "Imine = df['Imine'].to_list()\n",
    "Thiol = df['Thiol'].to_list()\n",
    "Output = df['Output'].to_list()\n",
    "\n",
    "df"
   ]
  },
  {
   "cell_type": "markdown",
   "id": "637bbb31",
   "metadata": {
    "ExecuteTime": {
     "end_time": "2023-04-20T02:16:47.574322Z",
     "start_time": "2023-04-20T02:16:47.570839Z"
    }
   },
   "source": [
    "# One-Hot descriptor"
   ]
  },
  {
   "cell_type": "markdown",
   "id": "22a5517f",
   "metadata": {},
   "source": [
    "## Catalyst"
   ]
  },
  {
   "cell_type": "markdown",
   "id": "58ceaff9",
   "metadata": {},
   "source": [
    "### main_ring descriptor"
   ]
  },
  {
   "cell_type": "code",
   "execution_count": 5,
   "id": "dfcdddf2",
   "metadata": {
    "ExecuteTime": {
     "end_time": "2023-05-06T14:38:39.865054Z",
     "start_time": "2023-05-06T14:38:38.421538Z"
    }
   },
   "outputs": [],
   "source": [
    "des_cat_main_ring = []\n",
    "for index,tmp_smi in enumerate(Catalyst):\n",
    "    tmp_smi = Chem.MolToSmiles(Chem.MolFromSmiles(tmp_smi),kekuleSmiles=False,\n",
    "                              isomericSmiles=False)\n",
    "    tmp_mol = Chem.MolFromSmiles(tmp_smi)\n",
    "    smi_nap = sta_smi('O=P1(OC2=CC=C3C(C=CC=C3)=C2C4=C(C=CC5=C4C=CC=C5)O1)O')\n",
    "    patt_nap = Chem.MolFromSmarts(smi_nap)\n",
    "    smi_ben = sta_smi('O=P1(OC2=CC=CC=C2C3=C(C=CC=C3)O1)O')\n",
    "    patt_ben = Chem.MolFromSmarts(smi_ben)\n",
    "    if tmp_mol.HasSubstructMatch(patt_nap):\n",
    "        des_cat_main_ring.append([1,0])\n",
    "    else:\n",
    "        des_cat_main_ring.append([0,1])\n",
    "des_cat_main_ring = np.array(des_cat_main_ring)"
   ]
  },
  {
   "cell_type": "code",
   "execution_count": 6,
   "id": "bae5c942",
   "metadata": {
    "ExecuteTime": {
     "end_time": "2023-05-06T14:38:39.879339Z",
     "start_time": "2023-05-06T14:38:39.877837Z"
    }
   },
   "outputs": [],
   "source": [
    "des_cat_main_ring_name = ['nap','ben']"
   ]
  },
  {
   "cell_type": "markdown",
   "id": "efcfeea0",
   "metadata": {},
   "source": [
    "### sub_gro descriptor"
   ]
  },
  {
   "cell_type": "code",
   "execution_count": 7,
   "id": "5957fe10",
   "metadata": {
    "ExecuteTime": {
     "end_time": "2023-05-06T14:38:44.339237Z",
     "start_time": "2023-05-06T14:38:40.289646Z"
    }
   },
   "outputs": [],
   "source": [
    "cat_sub_gro = []\n",
    "for index,tmp_smi in enumerate(Catalyst):\n",
    "    tmp_smi = Chem.MolToSmiles(Chem.MolFromSmiles(tmp_smi),kekuleSmiles=False,\n",
    "                              isomericSmiles=False)\n",
    "    tmp_mol = Chem.MolFromSmiles(tmp_smi)\n",
    "    smi_nap = sta_smi('O=P1(OC2=CC=C3C(C=CC=C3)=C2C4=C(C=CC5=C4C=CC=C5)O1)O')\n",
    "    patt_nap = Chem.MolFromSmarts(smi_nap)\n",
    "    smi_ben = sta_smi('O=P1(OC2=CC=CC=C2C3=C(C=CC=C3)O1)O')\n",
    "    patt_ben = Chem.MolFromSmarts(smi_ben)\n",
    "    if tmp_mol.HasSubstructMatch(patt_nap):\n",
    "        tmp_Mol = Molecule(tmp_smi,smi_nap)\n",
    "    else:\n",
    "        tmp_Mol = Molecule(tmp_smi,smi_ben)\n",
    "    cat_sub_gro.extend(list(tmp_Mol.dic_sub_gro.keys()))\n",
    "cat_sub_gro = list(np.unique(cat_sub_gro))\n",
    "cat_sub_gro_arr = np.array(cat_sub_gro).reshape(-1, 1)\n",
    "encoder_cat_sub_gro = OneHotEncoder()\n",
    "encoder_cat_sub_gro.fit(cat_sub_gro_arr)\n",
    "dic_cat_sub_gro = {}\n",
    "for smi in cat_sub_gro:\n",
    "    dic_cat_sub_gro[smi] = list(map(int,encoder_cat_sub_gro.transform(\n",
    "        [[smi]]).toarray()[0]))"
   ]
  },
  {
   "cell_type": "code",
   "execution_count": 8,
   "id": "28da1711",
   "metadata": {
    "ExecuteTime": {
     "end_time": "2023-05-06T14:38:49.015578Z",
     "start_time": "2023-05-06T14:38:44.357514Z"
    }
   },
   "outputs": [],
   "source": [
    "cat_path = []\n",
    "for index,tmp_smi in enumerate(Catalyst):\n",
    "    tmp_smi = Chem.MolToSmiles(Chem.MolFromSmiles(tmp_smi),kekuleSmiles=False,\n",
    "                              isomericSmiles=False)\n",
    "    tmp_mol = Chem.MolFromSmiles(tmp_smi)\n",
    "    smi_nap = sta_smi('O=P1(OC2=CC=C3C(C=CC=C3)=C2C4=C(C=CC5=C4C=CC=C5)O1)O')\n",
    "    patt_nap = Chem.MolFromSmarts(smi_nap)\n",
    "    smi_ben = sta_smi('O=P1(OC2=CC=CC=C2C3=C(C=CC=C3)O1)O')\n",
    "    patt_ben = Chem.MolFromSmarts(smi_ben)\n",
    "    if tmp_mol.HasSubstructMatch(patt_nap):\n",
    "        tmp_Mol = Molecule(tmp_smi,smi_nap)\n",
    "    else:\n",
    "        tmp_Mol = Molecule(tmp_smi,smi_ben)\n",
    "    smi_P = sta_smi('O=P(O)(O)O')\n",
    "    patt_P = Chem.MolFromSmiles(smi_P)\n",
    "    P_matches = list(tmp_mol.GetSubstructMatches(patt_P)[0])\n",
    "    formed_P_matches = []\n",
    "    for i in P_matches:\n",
    "        formed_P_matches.append(tmp_Mol.m2a[i])\n",
    "    for i in formed_P_matches:\n",
    "        if sum(tmp_Mol.M_nei[i])==4:\n",
    "            tmp_P_site = i\n",
    "    tmp_path = get_onestart_path(tmp_P_site,tmp_Mol.M_nei,tmp_Mol.dic_sub_gro)\n",
    "    for j in tmp_path:\n",
    "        tmp_formed_path = get_formed_path(j,tmp_Mol.atom_feature)\n",
    "        for k in tmp_formed_path:\n",
    "            if k not in cat_path:\n",
    "                cat_path.append(k)"
   ]
  },
  {
   "cell_type": "code",
   "execution_count": 18,
   "id": "10d84f84",
   "metadata": {
    "ExecuteTime": {
     "end_time": "2023-05-06T14:43:20.700655Z",
     "start_time": "2023-05-06T14:43:16.050701Z"
    }
   },
   "outputs": [],
   "source": [
    "cat_pathx = []\n",
    "for index,tmp_smi in enumerate(Catalyst):\n",
    "    tmp_smi = Chem.MolToSmiles(Chem.MolFromSmiles(tmp_smi),kekuleSmiles=False,\n",
    "                              isomericSmiles=False)\n",
    "    tmp_mol = Chem.MolFromSmiles(tmp_smi)\n",
    "    smi_nap = sta_smi('O=P1(OC2=CC=C3C(C=CC=C3)=C2C4=C(C=CC5=C4C=CC=C5)O1)O')\n",
    "    patt_nap = Chem.MolFromSmarts(smi_nap)\n",
    "    smi_ben = sta_smi('O=P1(OC2=CC=CC=C2C3=C(C=CC=C3)O1)O')\n",
    "    patt_ben = Chem.MolFromSmarts(smi_ben)\n",
    "    if tmp_mol.HasSubstructMatch(patt_nap):\n",
    "        tmp_Mol = Molecule(tmp_smi,smi_nap)\n",
    "    else:\n",
    "        tmp_Mol = Molecule(tmp_smi,smi_ben)\n",
    "    smi_P = sta_smi('O=P(O)(O)O')\n",
    "    patt_P = Chem.MolFromSmiles(smi_P)\n",
    "    P_matches = list(tmp_mol.GetSubstructMatches(patt_P)[0])\n",
    "    formed_P_matches = []\n",
    "    for i in P_matches:\n",
    "        formed_P_matches.append(tmp_Mol.m2a[i])\n",
    "    for i in formed_P_matches:\n",
    "        if sum(tmp_Mol.M_nei[i])==4:\n",
    "            tmp_P_site = i\n",
    "    tmp_path = get_onestart_path(tmp_P_site,tmp_Mol.M_nei,tmp_Mol.dic_sub_gro)\n",
    "    cat_pathx.append(tmp_path)"
   ]
  },
  {
   "cell_type": "code",
   "execution_count": 9,
   "id": "df8bc5b6",
   "metadata": {
    "ExecuteTime": {
     "end_time": "2023-05-06T14:39:01.161885Z",
     "start_time": "2023-05-06T14:38:49.031562Z"
    }
   },
   "outputs": [],
   "source": [
    "des_cat_sub_gro = []\n",
    "for index,tmp_smi in enumerate(Catalyst):\n",
    "    tmp_des = []\n",
    "    tmp_smi = Chem.MolToSmiles(Chem.MolFromSmiles(tmp_smi),kekuleSmiles=False,\n",
    "                              isomericSmiles=False)\n",
    "    tmp_mol = Chem.MolFromSmiles(tmp_smi)\n",
    "    smi_nap = sta_smi('O=P1(OC2=CC=C3C(C=CC=C3)=C2C4=C(C=CC5=C4C=CC=C5)O1)O')\n",
    "    patt_nap = Chem.MolFromSmarts(smi_nap)\n",
    "    smi_ben = sta_smi('O=P1(OC2=CC=CC=C2C3=C(C=CC=C3)O1)O')\n",
    "    patt_ben = Chem.MolFromSmarts(smi_ben)\n",
    "    if tmp_mol.HasSubstructMatch(patt_nap):\n",
    "        tmp_Mol = Molecule(tmp_smi,smi_nap)\n",
    "    else:\n",
    "        tmp_Mol = Molecule(tmp_smi,smi_ben)\n",
    "    smi_P = sta_smi('O=P(O)(O)O')\n",
    "    patt_P = Chem.MolFromSmiles(smi_P)\n",
    "    P_matches = list(tmp_mol.GetSubstructMatches(patt_P)[0])\n",
    "    formed_P_matches = []\n",
    "    for i in P_matches:\n",
    "        formed_P_matches.append(tmp_Mol.m2a[i])\n",
    "    for i in formed_P_matches:\n",
    "        if sum(tmp_Mol.M_nei[i])==4:\n",
    "            tmp_P_site = i\n",
    "    tmp_list_sub_gro = list(tmp_Mol.dic_sub_gro.keys())\n",
    "    for tmp_path in cat_path:\n",
    "        tmp_path_des = [0]*len(cat_sub_gro)\n",
    "        for tmp_sub_gro in tmp_list_sub_gro:\n",
    "            for tmp_sub_gro_site in tmp_Mol.dic_sub_gro[tmp_sub_gro]:\n",
    "                tmp_formed_sub_gro_path = []\n",
    "                for j in tmp_sub_gro_site:\n",
    "                    tmp_sub_gro_path = get_onestart_end_path(\n",
    "                        tmp_P_site,tmp_Mol.M_nei,j)\n",
    "                    tmp_formed_sub_gro_path.extend(get_formed_path(\n",
    "                        tmp_sub_gro_path,tmp_Mol.atom_feature))\n",
    "                for sub_path in tmp_formed_sub_gro_path:\n",
    "                    if sub_path==tmp_path:\n",
    "                        tmp_path_des = [a+b for a,b in zip(tmp_path_des,\n",
    "                                                dic_cat_sub_gro[tmp_sub_gro])]\n",
    "        tmp_des.extend(tmp_path_des)\n",
    "    des_cat_sub_gro.append(tmp_des)\n",
    "des_cat_sub_gro = np.array(des_cat_sub_gro)"
   ]
  },
  {
   "cell_type": "code",
   "execution_count": 10,
   "id": "2395f5ec",
   "metadata": {
    "ExecuteTime": {
     "end_time": "2023-05-06T14:39:01.182645Z",
     "start_time": "2023-05-06T14:39:01.179713Z"
    }
   },
   "outputs": [],
   "source": [
    "des_cat_sub_gro_name = []\n",
    "for i in range(len(cat_path)):\n",
    "    for j in range(len(cat_sub_gro)):\n",
    "        des_cat_sub_gro_name.append('cat_path-'+str(i)+\\\n",
    "                                           '-'+cat_sub_gro[j])"
   ]
  },
  {
   "cell_type": "markdown",
   "id": "79f3d4cd",
   "metadata": {},
   "source": [
    "### path descriptor"
   ]
  },
  {
   "cell_type": "code",
   "execution_count": 11,
   "id": "9b2a5f4c",
   "metadata": {
    "ExecuteTime": {
     "end_time": "2023-05-06T14:39:01.209868Z",
     "start_time": "2023-05-06T14:39:01.199779Z"
    }
   },
   "outputs": [],
   "source": [
    "cat_path_name = [i for i in range(len(cat_path))]\n",
    "cat_path_name_arr = np.array(cat_path_name).reshape(-1, 1)\n",
    "encoder_cat_path_name = OneHotEncoder()\n",
    "encoder_cat_path_name.fit(cat_path_name_arr)\n",
    "dic_cat_path = {}\n",
    "for i,name in enumerate(cat_path_name):\n",
    "    dic_cat_path[name] = list(map(int,encoder_cat_path_name.transform(\n",
    "        [[name]]).toarray()[0]))+[len(cat_path[i])]+list(np.sum(\n",
    "        cat_path[i],axis=0))"
   ]
  },
  {
   "cell_type": "code",
   "execution_count": 16,
   "id": "49ce5739",
   "metadata": {
    "ExecuteTime": {
     "end_time": "2023-05-06T07:28:10.587473Z",
     "start_time": "2023-05-06T07:28:05.718870Z"
    }
   },
   "outputs": [],
   "source": [
    "des_cat_path = []\n",
    "for index,tmp_smi in enumerate(Catalyst):\n",
    "    tmp_des = []\n",
    "    tmp_smi = Chem.MolToSmiles(Chem.MolFromSmiles(tmp_smi),kekuleSmiles=False,\n",
    "                              isomericSmiles=False)\n",
    "    tmp_mol = Chem.MolFromSmiles(tmp_smi)\n",
    "    smi_nap = sta_smi('O=P1(OC2=CC=C3C(C=CC=C3)=C2C4=C(C=CC5=C4C=CC=C5)O1)O')\n",
    "    patt_nap = Chem.MolFromSmarts(smi_nap)\n",
    "    smi_ben = sta_smi('O=P1(OC2=CC=CC=C2C3=C(C=CC=C3)O1)O')\n",
    "    patt_ben = Chem.MolFromSmarts(smi_ben)\n",
    "    if tmp_mol.HasSubstructMatch(patt_nap):\n",
    "        tmp_Mol = Molecule(tmp_smi,smi_nap)\n",
    "    else:\n",
    "        tmp_Mol = Molecule(tmp_smi,smi_ben)\n",
    "    smi_P = sta_smi('O=P(O)(O)O')\n",
    "    patt_P = Chem.MolFromSmiles(smi_P)\n",
    "    P_matches = list(tmp_mol.GetSubstructMatches(patt_P)[0])\n",
    "    formed_P_matches = []\n",
    "    for i in P_matches:\n",
    "        formed_P_matches.append(tmp_Mol.m2a[i])\n",
    "    for i in formed_P_matches:\n",
    "        if sum(tmp_Mol.M_nei[i])==4:\n",
    "            tmp_P_site = i\n",
    "    tmp_list_sub_gro = list(tmp_Mol.dic_sub_gro.keys())\n",
    "    for tmp_sub_gro0 in cat_sub_gro:\n",
    "        tmp_sub_gro_des = [0]*(len(cat_path_name)+9)\n",
    "        for tmp_sub_gro in tmp_list_sub_gro:\n",
    "            if tmp_sub_gro0==tmp_sub_gro:\n",
    "                for tmp_sub_gro_site in tmp_Mol.dic_sub_gro[tmp_sub_gro]:\n",
    "                    tmp_formed_sub_gro_path = []\n",
    "                    for j in tmp_sub_gro_site:\n",
    "                        tmp_sub_gro_path = get_onestart_end_path(\n",
    "                            tmp_P_site,tmp_Mol.M_nei,j)\n",
    "                        tmp_formed_sub_gro_path.extend(get_formed_path(\n",
    "                            tmp_sub_gro_path,tmp_Mol.atom_feature))\n",
    "                for pathx in tmp_formed_sub_gro_path:\n",
    "                    path_index = cat_path.index(pathx)\n",
    "                    tmp_sub_gro_des = [a+b for a,b in zip(tmp_sub_gro_des,\n",
    "                                            dic_cat_path[path_index])]\n",
    "        tmp_des.extend(tmp_sub_gro_des)\n",
    "    des_cat_path.append(tmp_des)\n",
    "des_cat_path = np.array(des_cat_path)"
   ]
  },
  {
   "cell_type": "code",
   "execution_count": 17,
   "id": "a28f6a9a",
   "metadata": {
    "ExecuteTime": {
     "end_time": "2023-05-06T07:28:10.616672Z",
     "start_time": "2023-05-06T07:28:10.613827Z"
    }
   },
   "outputs": [],
   "source": [
    "des_cat_path_name = []\n",
    "cat_path_des_name = ['cat_path-'+str(i) for i in range(len(cat_path))]+\\\n",
    "['C_num','O_num','P_num','sp3','sp2','sp','H_num','Degree_num','aro_num']\n",
    "for i in range(len(cat_sub_gro)):\n",
    "    for j in range(len(cat_path_des_name)):\n",
    "        des_cat_path_name.append(cat_sub_gro[i]+'-'+cat_path_des_name[j])"
   ]
  },
  {
   "cell_type": "markdown",
   "id": "2ba313b3",
   "metadata": {},
   "source": [
    "## Imine"
   ]
  },
  {
   "cell_type": "code",
   "execution_count": 18,
   "id": "407a9555",
   "metadata": {
    "ExecuteTime": {
     "end_time": "2023-05-06T07:28:11.669598Z",
     "start_time": "2023-05-06T07:28:11.375113Z"
    }
   },
   "outputs": [],
   "source": [
    "sta_Imine = list(np.unique(sta_list_smi(Imine)))\n",
    "sta_Imine_arr = np.array(sta_Imine).reshape(-1,1)\n",
    "encoder_Imine = OneHotEncoder()\n",
    "encoder_Imine.fit(sta_Imine_arr)\n",
    "des_Imine = encoder_Imine.transform(np.array(sta_list_smi(\n",
    "    Imine)).reshape(-1,1)).toarray()\n",
    "des_Imine_name = sta_Imine[:]"
   ]
  },
  {
   "cell_type": "markdown",
   "id": "34fdb994",
   "metadata": {},
   "source": [
    "## Thiol"
   ]
  },
  {
   "cell_type": "code",
   "execution_count": 19,
   "id": "92beda26",
   "metadata": {
    "ExecuteTime": {
     "end_time": "2023-05-06T07:28:12.436842Z",
     "start_time": "2023-05-06T07:28:12.316934Z"
    }
   },
   "outputs": [],
   "source": [
    "sta_Thiol = list(np.unique(sta_list_smi(Thiol)))\n",
    "sta_Thiol_arr = np.array(sta_Thiol).reshape(-1,1)\n",
    "encoder_Thiol = OneHotEncoder()\n",
    "encoder_Thiol.fit(sta_Thiol_arr)\n",
    "des_Thiol = encoder_Thiol.transform(np.array(sta_list_smi(\n",
    "    Thiol)).reshape(-1,1)).toarray()\n",
    "des_Thiol_name = sta_Thiol[:]"
   ]
  },
  {
   "cell_type": "markdown",
   "id": "86f8e036",
   "metadata": {},
   "source": [
    "## all descriptor"
   ]
  },
  {
   "cell_type": "code",
   "execution_count": 20,
   "id": "d69987d0",
   "metadata": {
    "ExecuteTime": {
     "end_time": "2023-05-06T07:28:14.334114Z",
     "start_time": "2023-05-06T07:28:14.295270Z"
    }
   },
   "outputs": [],
   "source": [
    "des = np.concatenate((des_cat_main_ring,des_cat_sub_gro,des_cat_path,des_Imine,\n",
    "                      des_Thiol),axis=1)\n",
    "des_name = des_cat_main_ring_name+des_cat_sub_gro_name+des_cat_path_name+\\\n",
    "    des_Imine_name+des_Thiol_name\n",
    "#描述符正规化\n",
    "sta_des,sta_des_name = f_des_std(des,des_name)"
   ]
  },
  {
   "cell_type": "code",
   "execution_count": 27,
   "id": "410658c3",
   "metadata": {
    "ExecuteTime": {
     "end_time": "2023-04-20T14:22:20.402249Z",
     "start_time": "2023-04-20T14:22:20.238275Z"
    },
    "deletable": false,
    "editable": false,
    "run_control": {
     "frozen": true
    }
   },
   "outputs": [],
   "source": [
    "#存储path_OH描述符\n",
    "with open('descriptor'+sep+'des_danmark_path_onehot.csv','w',newline='')as f:\n",
    "    csv_writer = csv.writer(f)\n",
    "    csv_writer.writerow(sta_des_name)\n",
    "    for index,tmp_des in enumerate(sta_des):\n",
    "        csv_writer.writerow(list(tmp_des))"
   ]
  },
  {
   "cell_type": "markdown",
   "id": "234e289c",
   "metadata": {},
   "source": [
    "# ste_ele descriptor"
   ]
  },
  {
   "cell_type": "markdown",
   "id": "79e81e63",
   "metadata": {},
   "source": [
    "## Catalyst"
   ]
  },
  {
   "cell_type": "markdown",
   "id": "65afda39",
   "metadata": {
    "ExecuteTime": {
     "end_time": "2023-04-20T12:21:26.066047Z",
     "start_time": "2023-04-20T12:21:26.063686Z"
    }
   },
   "source": [
    "### main_ring descriptor"
   ]
  },
  {
   "cell_type": "code",
   "execution_count": 22,
   "id": "d2bcd980",
   "metadata": {
    "ExecuteTime": {
     "end_time": "2023-05-06T07:31:33.988868Z",
     "start_time": "2023-05-06T07:31:32.637899Z"
    }
   },
   "outputs": [],
   "source": [
    "des_cat_main_ring_OH = []\n",
    "for index,tmp_smi in enumerate(Catalyst):\n",
    "    tmp_smi = Chem.MolToSmiles(Chem.MolFromSmiles(tmp_smi),kekuleSmiles=False,\n",
    "                              isomericSmiles=False)\n",
    "    tmp_mol = Chem.MolFromSmiles(tmp_smi)\n",
    "    smi_nap = sta_smi('O=P1(OC2=CC=C3C(C=CC=C3)=C2C4=C(C=CC5=C4C=CC=C5)O1)O')\n",
    "    patt_nap = Chem.MolFromSmarts(smi_nap)\n",
    "    smi_ben = sta_smi('O=P1(OC2=CC=CC=C2C3=C(C=CC=C3)O1)O')\n",
    "    patt_ben = Chem.MolFromSmarts(smi_ben)\n",
    "    if tmp_mol.HasSubstructMatch(patt_nap):\n",
    "        des_cat_main_ring_OH.append([1,0])\n",
    "    else:\n",
    "        des_cat_main_ring_OH.append([0,1])\n",
    "des_cat_main_ring_OH = np.array(des_cat_main_ring_OH)\n",
    "des_cat_main_ring_OH_name = ['nap','ben']"
   ]
  },
  {
   "cell_type": "markdown",
   "id": "bb2aa2bc",
   "metadata": {},
   "source": [
    "### sub_gro descriptor"
   ]
  },
  {
   "cell_type": "code",
   "execution_count": 23,
   "id": "75139133",
   "metadata": {
    "ExecuteTime": {
     "end_time": "2023-05-06T07:32:20.329954Z",
     "start_time": "2023-05-06T07:32:16.135512Z"
    }
   },
   "outputs": [],
   "source": [
    "cat_sub_gro = []\n",
    "for index,tmp_smi in enumerate(Catalyst):\n",
    "    tmp_smi = Chem.MolToSmiles(Chem.MolFromSmiles(tmp_smi),kekuleSmiles=False,\n",
    "                              isomericSmiles=False)\n",
    "    tmp_mol = Chem.MolFromSmiles(tmp_smi)\n",
    "    smi_nap = sta_smi('O=P1(OC2=CC=C3C(C=CC=C3)=C2C4=C(C=CC5=C4C=CC=C5)O1)O')\n",
    "    patt_nap = Chem.MolFromSmarts(smi_nap)\n",
    "    smi_ben = sta_smi('O=P1(OC2=CC=CC=C2C3=C(C=CC=C3)O1)O')\n",
    "    patt_ben = Chem.MolFromSmarts(smi_ben)\n",
    "    if tmp_mol.HasSubstructMatch(patt_nap):\n",
    "        tmp_Mol = Molecule(tmp_smi,smi_nap)\n",
    "    else:\n",
    "        tmp_Mol = Molecule(tmp_smi,smi_ben)\n",
    "    cat_sub_gro.extend(list(tmp_Mol.dic_sub_gro.keys()))\n",
    "cat_sub_gro = list(np.unique(cat_sub_gro))"
   ]
  },
  {
   "cell_type": "code",
   "execution_count": 24,
   "id": "7ccbec6a",
   "metadata": {
    "ExecuteTime": {
     "end_time": "2023-05-06T07:34:15.741511Z",
     "start_time": "2023-05-06T07:32:23.219852Z"
    }
   },
   "outputs": [
    {
     "name": "stderr",
     "output_type": "stream",
     "text": [
      "[15:33:55] UFFTYPER: Unrecognized atom type: S_6+6 (5)\n"
     ]
    }
   ],
   "source": [
    "#dic_des_steric\n",
    "formed_cat_sub_gro_steric = cat_sub_gro[:]\n",
    "formed_cat_sub_gro_steric = [s.replace('*','I') for s in formed_cat_sub_gro_steric]\n",
    "dic_cat_sub_gro_steric = {}\n",
    "flag = True\n",
    "for i,tmp_smi in enumerate(formed_cat_sub_gro_steric):\n",
    "    tmp_mol = Chem.MolFromSmiles(tmp_smi)\n",
    "    tmp_mol = AllChem.AddHs(tmp_mol)\n",
    "    AllChem.EmbedMolecule(tmp_mol)\n",
    "    AllChem.MMFFOptimizeMoleculeConfs(tmp_mol)\n",
    "    tmp_xyz = Chem.MolToXYZBlock(tmp_mol)\n",
    "    tmp_xyz = list(tmp_xyz.replace(str(tmp_mol.GetNumAtoms())+'\\n\\n',''\n",
    "                                      )[:-1].split('\\n'))\n",
    "    elements = [s.split()[0] for s in tmp_xyz]\n",
    "    coordinates = np.array([list(map(float,s.split()[1:])) for s in tmp_xyz])\n",
    "    ste = Sterimol(elements,coordinates,1,2,radii = [i+1 for i in range(10)])\n",
    "    tmp_dic_bv_ste = [ste.L_value,ste.B_1_value,ste.B_5_value]\n",
    "    if flag:\n",
    "        ste_bv_name = ['steL','steB1','steB5']\n",
    "    for j in range(10):\n",
    "        bv = BuriedVolume(elements,coordinates,1,z_axis_atoms=2,radius=j+1)\n",
    "        tmp_dic_bv_ste.append(bv.fraction_buried_volume)\n",
    "        if flag:\n",
    "            ste_bv_name.extend(['bv_r'+str(j+1)])\n",
    "    flag = False\n",
    "    dic_cat_sub_gro_steric[cat_sub_gro[i]] = tmp_dic_bv_ste"
   ]
  },
  {
   "cell_type": "code",
   "execution_count": 25,
   "id": "01c30ad0",
   "metadata": {
    "ExecuteTime": {
     "end_time": "2023-05-06T07:35:40.229302Z",
     "start_time": "2023-05-06T07:34:30.279490Z"
    }
   },
   "outputs": [
    {
     "name": "stderr",
     "output_type": "stream",
     "text": [
      "[15:35:28] UFFTYPER: Unrecognized atom type: S_6+6 (4)\n"
     ]
    }
   ],
   "source": [
    "#dic_des_ele\n",
    "formed_cat_sub_gro_ele = cat_sub_gro[:]\n",
    "formed_cat_sub_gro_ele = [s.replace('*','') for s in formed_cat_sub_gro_ele]\n",
    "formed_cat_sub_gro_ele = [s.replace('[Si]','[H][Si]')\\\n",
    "                          for s in formed_cat_sub_gro_ele]\n",
    "dic_cat_sub_gro_ele = {}\n",
    "flag = True\n",
    "for i,tmp_smi in enumerate(formed_cat_sub_gro_ele):\n",
    "    tmp_mol = Chem.MolFromSmiles(tmp_smi)\n",
    "    tmp_mol = AllChem.AddHs(tmp_mol)\n",
    "    AllChem.EmbedMolecule(tmp_mol)\n",
    "    AllChem.MMFFOptimizeMoleculeConfs(tmp_mol)\n",
    "    tmp_xyz = Chem.MolToXYZBlock(tmp_mol)\n",
    "    tmp_xyz = list(tmp_xyz.replace(str(tmp_mol.GetNumAtoms())+'\\n\\n',''\n",
    "                                      )[:-1].split('\\n'))\n",
    "    elements = [s.split()[0] for s in tmp_xyz]\n",
    "    coordinates = np.array([list(map(float,s.split()[1:])) for s in tmp_xyz])\n",
    "    tmp_xtb = XTB(elements, coordinates)\n",
    "    tmp_charge = tmp_xtb.get_charges()[1]\n",
    "    tmp_dipole = list(tmp_xtb.get_dipole())\n",
    "    tmp_ea = tmp_xtb.get_ea()\n",
    "    tmp_fuki = []\n",
    "    list_variety0 = ['dual','electrophilicity','local_electrophilicity',\n",
    "                    'local_nucleophilicity','nucleophilicity','radical']\n",
    "    for variety in list_variety0:\n",
    "        tmp_fuki.append(tmp_xtb.get_fukui(variety)[1])\n",
    "    tmp_glo = []\n",
    "    list_variety1 = ['electrofugality','electrophilicity','nucleofugality',\n",
    "                     'nucleophilicity']\n",
    "    for variety in list_variety1:\n",
    "        tmp_glo.append(tmp_xtb.get_global_descriptor(variety))\n",
    "    tmp_homo = tmp_xtb.get_homo()\n",
    "    tmp_ip = tmp_xtb.get_ip()\n",
    "    tmp_lumo = tmp_xtb.get_lumo()\n",
    "    tmp_ele = [tmp_charge]+tmp_dipole+[tmp_ea]+tmp_fuki+tmp_glo+[tmp_homo,\n",
    "              tmp_ip,tmp_lumo]\n",
    "    if flag:\n",
    "        ele_name = ['Charge0','dipole1','dipole2','dipole3','ea']+[\n",
    "            'fukui_'+i+'0' for i in list_variety0]+[\n",
    "            'global_'+i for i in list_variety1]+['homo','ip','lumo']\n",
    "        flag = False\n",
    "    dic_cat_sub_gro_ele[cat_sub_gro[i]] = tmp_ele"
   ]
  },
  {
   "cell_type": "code",
   "execution_count": 26,
   "id": "ee8706cf",
   "metadata": {
    "ExecuteTime": {
     "end_time": "2023-05-06T07:36:13.311814Z",
     "start_time": "2023-05-06T07:36:13.308436Z"
    }
   },
   "outputs": [],
   "source": [
    "dic_cat_sub_gro_ste_ele = {}\n",
    "for i,tmp_smi in enumerate(cat_sub_gro):\n",
    "    dic_cat_sub_gro_ste_ele[tmp_smi] = dic_cat_sub_gro_steric[tmp_smi]+\\\n",
    "    dic_cat_sub_gro_ele[tmp_smi]\n",
    "ste_ele_name = ste_bv_name+ele_name"
   ]
  },
  {
   "cell_type": "code",
   "execution_count": 27,
   "id": "b8b3fd8d",
   "metadata": {
    "ExecuteTime": {
     "end_time": "2023-05-06T07:36:21.916382Z",
     "start_time": "2023-05-06T07:36:17.218169Z"
    }
   },
   "outputs": [],
   "source": [
    "cat_path = []\n",
    "for index,tmp_smi in enumerate(Catalyst):\n",
    "    tmp_smi = Chem.MolToSmiles(Chem.MolFromSmiles(tmp_smi),kekuleSmiles=False,\n",
    "                              isomericSmiles=False)\n",
    "    tmp_mol = Chem.MolFromSmiles(tmp_smi)\n",
    "    smi_nap = sta_smi('O=P1(OC2=CC=C3C(C=CC=C3)=C2C4=C(C=CC5=C4C=CC=C5)O1)O')\n",
    "    patt_nap = Chem.MolFromSmarts(smi_nap)\n",
    "    smi_ben = sta_smi('O=P1(OC2=CC=CC=C2C3=C(C=CC=C3)O1)O')\n",
    "    patt_ben = Chem.MolFromSmarts(smi_ben)\n",
    "    if tmp_mol.HasSubstructMatch(patt_nap):\n",
    "        tmp_Mol = Molecule(tmp_smi,smi_nap)\n",
    "    else:\n",
    "        tmp_Mol = Molecule(tmp_smi,smi_ben)\n",
    "    smi_P = sta_smi('O=P(O)(O)O')\n",
    "    patt_P = Chem.MolFromSmiles(smi_P)\n",
    "    P_matches = list(tmp_mol.GetSubstructMatches(patt_P)[0])\n",
    "    formed_P_matches = []\n",
    "    for i in P_matches:\n",
    "        formed_P_matches.append(tmp_Mol.m2a[i])\n",
    "    for i in formed_P_matches:\n",
    "        if sum(tmp_Mol.M_nei[i])==4:\n",
    "            tmp_P_site = i\n",
    "    tmp_path = get_onestart_path(tmp_P_site,tmp_Mol.M_nei,tmp_Mol.dic_sub_gro)\n",
    "    for j in tmp_path:\n",
    "        tmp_formed_path = get_formed_path(j,tmp_Mol.atom_feature)\n",
    "        for k in tmp_formed_path:\n",
    "            if k not in cat_path:\n",
    "                cat_path.append(k)"
   ]
  },
  {
   "cell_type": "markdown",
   "id": "be434b01",
   "metadata": {},
   "source": [
    "#### ste_ele"
   ]
  },
  {
   "cell_type": "code",
   "execution_count": 28,
   "id": "98fea114",
   "metadata": {
    "ExecuteTime": {
     "end_time": "2023-05-06T07:36:47.521489Z",
     "start_time": "2023-05-06T07:36:35.208694Z"
    }
   },
   "outputs": [],
   "source": [
    "des_cat_sub_gro_ste_ele = []\n",
    "for index,tmp_smi in enumerate(Catalyst):\n",
    "    tmp_des = []\n",
    "    tmp_smi = Chem.MolToSmiles(Chem.MolFromSmiles(tmp_smi),kekuleSmiles=False,\n",
    "                              isomericSmiles=False)\n",
    "    tmp_mol = Chem.MolFromSmiles(tmp_smi)\n",
    "    smi_nap = sta_smi('O=P1(OC2=CC=C3C(C=CC=C3)=C2C4=C(C=CC5=C4C=CC=C5)O1)O')\n",
    "    patt_nap = Chem.MolFromSmarts(smi_nap)\n",
    "    smi_ben = sta_smi('O=P1(OC2=CC=CC=C2C3=C(C=CC=C3)O1)O')\n",
    "    patt_ben = Chem.MolFromSmarts(smi_ben)\n",
    "    if tmp_mol.HasSubstructMatch(patt_nap):\n",
    "        tmp_Mol = Molecule(tmp_smi,smi_nap)\n",
    "    else:\n",
    "        tmp_Mol = Molecule(tmp_smi,smi_ben)\n",
    "    smi_P = sta_smi('O=P(O)(O)O')\n",
    "    patt_P = Chem.MolFromSmiles(smi_P)\n",
    "    P_matches = list(tmp_mol.GetSubstructMatches(patt_P)[0])\n",
    "    formed_P_matches = []\n",
    "    for i in P_matches:\n",
    "        formed_P_matches.append(tmp_Mol.m2a[i])\n",
    "    for i in formed_P_matches:\n",
    "        if sum(tmp_Mol.M_nei[i])==4:\n",
    "            tmp_P_site = i\n",
    "    tmp_list_sub_gro = list(tmp_Mol.dic_sub_gro.keys())\n",
    "    for tmp_path in cat_path:\n",
    "        tmp_path_des = [0]*len(ste_ele_name)\n",
    "        for tmp_sub_gro in tmp_list_sub_gro:\n",
    "            for tmp_sub_gro_site in tmp_Mol.dic_sub_gro[tmp_sub_gro]:\n",
    "                tmp_formed_sub_gro_path = []\n",
    "                for j in tmp_sub_gro_site:\n",
    "                    tmp_sub_gro_path = get_onestart_end_path(\n",
    "                        tmp_P_site,tmp_Mol.M_nei,j)\n",
    "                    tmp_formed_sub_gro_path.extend(get_formed_path(\n",
    "                        tmp_sub_gro_path,tmp_Mol.atom_feature))\n",
    "                for sub_path in tmp_formed_sub_gro_path:\n",
    "                    if sub_path==tmp_path:\n",
    "                        tmp_path_des = [a+b for a,b in zip(tmp_path_des,\n",
    "                                        dic_cat_sub_gro_ste_ele[tmp_sub_gro])]\n",
    "        tmp_des.extend(tmp_path_des)\n",
    "    des_cat_sub_gro_ste_ele.append(tmp_des)\n",
    "des_cat_sub_gro_ste_ele = np.array(des_cat_sub_gro_ste_ele)"
   ]
  },
  {
   "cell_type": "code",
   "execution_count": 29,
   "id": "478bea5b",
   "metadata": {
    "ExecuteTime": {
     "end_time": "2023-05-06T07:36:47.579626Z",
     "start_time": "2023-05-06T07:36:47.576737Z"
    }
   },
   "outputs": [],
   "source": [
    "des_cat_sub_gro_ste_ele_name = []\n",
    "for i in range(len(cat_path)):\n",
    "    for j in range(len(ste_ele_name)):\n",
    "        des_cat_sub_gro_ste_ele_name.append('cat_path-'+str(i)+\\\n",
    "                                           '-'+ste_ele_name[j])"
   ]
  },
  {
   "cell_type": "markdown",
   "id": "bdc9ad64",
   "metadata": {},
   "source": [
    "### path descriptor"
   ]
  },
  {
   "cell_type": "code",
   "execution_count": 30,
   "id": "a8cc62c4",
   "metadata": {
    "ExecuteTime": {
     "end_time": "2023-05-06T07:36:54.758458Z",
     "start_time": "2023-05-06T07:36:54.748403Z"
    }
   },
   "outputs": [],
   "source": [
    "cat_path_name = [i for i in range(len(cat_path))]\n",
    "cat_path_name_arr = np.array(cat_path_name).reshape(-1, 1)\n",
    "encoder_cat_path_name = OneHotEncoder()\n",
    "encoder_cat_path_name.fit(cat_path_name_arr)\n",
    "dic_cat_path = {}\n",
    "for i,name in enumerate(cat_path_name):\n",
    "    dic_cat_path[name] = list(map(int,encoder_cat_path_name.transform(\n",
    "        [[name]]).toarray()[0]))+[len(cat_path[i])]+list(np.sum(\n",
    "        cat_path[i],axis=0))"
   ]
  },
  {
   "cell_type": "code",
   "execution_count": 31,
   "id": "f23fd16b",
   "metadata": {
    "ExecuteTime": {
     "end_time": "2023-05-06T07:37:00.883198Z",
     "start_time": "2023-05-06T07:36:55.732410Z"
    }
   },
   "outputs": [],
   "source": [
    "des_cat_path = []\n",
    "for index,tmp_smi in enumerate(Catalyst):\n",
    "    tmp_des = []\n",
    "    tmp_smi = Chem.MolToSmiles(Chem.MolFromSmiles(tmp_smi),kekuleSmiles=False,\n",
    "                              isomericSmiles=False)\n",
    "    tmp_mol = Chem.MolFromSmiles(tmp_smi)\n",
    "    smi_nap = sta_smi('O=P1(OC2=CC=C3C(C=CC=C3)=C2C4=C(C=CC5=C4C=CC=C5)O1)O')\n",
    "    patt_nap = Chem.MolFromSmarts(smi_nap)\n",
    "    smi_ben = sta_smi('O=P1(OC2=CC=CC=C2C3=C(C=CC=C3)O1)O')\n",
    "    patt_ben = Chem.MolFromSmarts(smi_ben)\n",
    "    if tmp_mol.HasSubstructMatch(patt_nap):\n",
    "        tmp_Mol = Molecule(tmp_smi,smi_nap)\n",
    "    else:\n",
    "        tmp_Mol = Molecule(tmp_smi,smi_ben)\n",
    "    smi_P = sta_smi('O=P(O)(O)O')\n",
    "    patt_P = Chem.MolFromSmiles(smi_P)\n",
    "    P_matches = list(tmp_mol.GetSubstructMatches(patt_P)[0])\n",
    "    formed_P_matches = []\n",
    "    for i in P_matches:\n",
    "        formed_P_matches.append(tmp_Mol.m2a[i])\n",
    "    for i in formed_P_matches:\n",
    "        if sum(tmp_Mol.M_nei[i])==4:\n",
    "            tmp_P_site = i\n",
    "    tmp_list_sub_gro = list(tmp_Mol.dic_sub_gro.keys())\n",
    "    for tmp_sub_gro0 in cat_sub_gro:\n",
    "        tmp_sub_gro_des = [0]*(len(cat_path_name)+9)\n",
    "        for tmp_sub_gro in tmp_list_sub_gro:\n",
    "            if tmp_sub_gro0==tmp_sub_gro:\n",
    "                for tmp_sub_gro_site in tmp_Mol.dic_sub_gro[tmp_sub_gro]:\n",
    "                    tmp_formed_sub_gro_path = []\n",
    "                    for j in tmp_sub_gro_site:\n",
    "                        tmp_sub_gro_path = get_onestart_end_path(\n",
    "                            tmp_P_site,tmp_Mol.M_nei,j)\n",
    "                        tmp_formed_sub_gro_path.extend(get_formed_path(\n",
    "                            tmp_sub_gro_path,tmp_Mol.atom_feature))\n",
    "                for pathx in tmp_formed_sub_gro_path:\n",
    "                    path_index = cat_path.index(pathx)\n",
    "                    tmp_sub_gro_des = [a+b for a,b in zip(tmp_sub_gro_des,\n",
    "                                            dic_cat_path[path_index])]\n",
    "        tmp_des.extend(tmp_sub_gro_des)\n",
    "    des_cat_path.append(tmp_des)\n",
    "des_cat_path = np.array(des_cat_path)"
   ]
  },
  {
   "cell_type": "code",
   "execution_count": 32,
   "id": "db73bb24",
   "metadata": {
    "ExecuteTime": {
     "end_time": "2023-05-06T07:37:01.879426Z",
     "start_time": "2023-05-06T07:37:01.875126Z"
    }
   },
   "outputs": [],
   "source": [
    "des_cat_path_name = []\n",
    "cat_path_des_name = ['cat_path-'+str(i) for i in range(len(cat_path))]+\\\n",
    "['C_num','O_num','P_num','sp3','sp2','sp','H_num','Degree_num','aro_num']\n",
    "for i in range(len(cat_sub_gro)):\n",
    "    for j in range(len(cat_path_des_name)):\n",
    "        des_cat_path_name.append(cat_sub_gro[i]+'-'+cat_path_des_name[j])"
   ]
  },
  {
   "cell_type": "markdown",
   "id": "8d9b0a01",
   "metadata": {},
   "source": [
    "## Imine"
   ]
  },
  {
   "cell_type": "code",
   "execution_count": 34,
   "id": "b8583df0",
   "metadata": {
    "ExecuteTime": {
     "end_time": "2023-05-06T07:38:05.086808Z",
     "start_time": "2023-05-06T07:38:04.790020Z"
    }
   },
   "outputs": [],
   "source": [
    "sta_Imine = list(np.unique(sta_list_smi(Imine)))\n",
    "sta_Imine_arr = np.array(sta_Imine).reshape(-1,1)\n",
    "encoder_Imine = OneHotEncoder()\n",
    "encoder_Imine.fit(sta_Imine_arr)\n",
    "des_Imine_OH = encoder_Imine.transform(np.array(sta_list_smi(\n",
    "    Imine)).reshape(-1,1)).toarray()\n",
    "des_Imine_OH_name = sta_Imine[:]"
   ]
  },
  {
   "cell_type": "markdown",
   "id": "457138ad",
   "metadata": {},
   "source": [
    "## Thiol"
   ]
  },
  {
   "cell_type": "code",
   "execution_count": 35,
   "id": "9b40e198",
   "metadata": {
    "ExecuteTime": {
     "end_time": "2023-05-06T07:38:06.421782Z",
     "start_time": "2023-05-06T07:38:06.310593Z"
    }
   },
   "outputs": [],
   "source": [
    "sta_Thiol = list(np.unique(sta_list_smi(Thiol)))\n",
    "sta_Thiol_arr = np.array(sta_Thiol).reshape(-1,1)\n",
    "encoder_Thiol = OneHotEncoder()\n",
    "encoder_Thiol.fit(sta_Thiol_arr)\n",
    "des_Thiol_OH = encoder_Thiol.transform(np.array(sta_list_smi(\n",
    "    Thiol)).reshape(-1,1)).toarray()\n",
    "des_Thiol_OH_name = sta_Thiol[:]"
   ]
  },
  {
   "cell_type": "markdown",
   "id": "a9c8b9ae",
   "metadata": {},
   "source": [
    "## all descriptor"
   ]
  },
  {
   "cell_type": "markdown",
   "id": "6b553a6c",
   "metadata": {},
   "source": [
    "### ste_ele"
   ]
  },
  {
   "cell_type": "code",
   "execution_count": 36,
   "id": "faa96fbe",
   "metadata": {
    "ExecuteTime": {
     "end_time": "2023-05-06T07:41:36.065903Z",
     "start_time": "2023-05-06T07:41:36.017570Z"
    }
   },
   "outputs": [],
   "source": [
    "des_ste_ele = np.concatenate((des_cat_main_ring_OH,des_cat_sub_gro_ste_ele,\n",
    "                      des_cat_path,des_Imine_OH,des_Thiol_OH),axis=1)\n",
    "des_ste_ele_name = des_cat_main_ring_OH_name+des_cat_sub_gro_ste_ele_name+\\\n",
    "des_cat_path_name+des_Imine_OH_name+des_Thiol_OH_name\n",
    "#描述符正规化\n",
    "sta_des_ste_ele,sta_des_ste_ele_name = f_des_std(des_ste_ele,\n",
    "                                                 des_ste_ele_name)"
   ]
  },
  {
   "cell_type": "code",
   "execution_count": 37,
   "id": "3e642474",
   "metadata": {
    "ExecuteTime": {
     "end_time": "2023-05-06T07:42:12.717018Z",
     "start_time": "2023-05-06T07:42:12.713116Z"
    }
   },
   "outputs": [
    {
     "data": {
      "text/plain": [
       "((1075, 1693), (1075, 1332))"
      ]
     },
     "execution_count": 37,
     "metadata": {},
     "output_type": "execute_result"
    }
   ],
   "source": [
    "np.shape(des_ste_ele),np.shape(sta_des_ste_ele)"
   ]
  },
  {
   "cell_type": "code",
   "execution_count": 38,
   "id": "8d292f23",
   "metadata": {
    "ExecuteTime": {
     "end_time": "2023-05-06T07:44:20.368055Z",
     "start_time": "2023-05-06T07:44:19.970036Z"
    },
    "deletable": false,
    "editable": false,
    "run_control": {
     "frozen": true
    }
   },
   "outputs": [],
   "source": [
    "#存储ste_ele描述符\n",
    "with open('descriptor'+sep+'des_danmark_ste_ele.csv','w',newline='')as f:\n",
    "    csv_writer = csv.writer(f)\n",
    "    csv_writer.writerow(sta_des_ste_ele_name)\n",
    "    for index,tmp_des in enumerate(sta_des_ste_ele):\n",
    "        csv_writer.writerow(list(tmp_des))"
   ]
  }
 ],
 "metadata": {
  "kernelspec": {
   "display_name": "cch",
   "language": "python",
   "name": "cch"
  },
  "language_info": {
   "codemirror_mode": {
    "name": "ipython",
    "version": 3
   },
   "file_extension": ".py",
   "mimetype": "text/x-python",
   "name": "python",
   "nbconvert_exporter": "python",
   "pygments_lexer": "ipython3",
   "version": "3.9.16"
  },
  "toc": {
   "base_numbering": 1,
   "nav_menu": {},
   "number_sections": true,
   "sideBar": true,
   "skip_h1_title": false,
   "title_cell": "Table of Contents",
   "title_sidebar": "Contents",
   "toc_cell": false,
   "toc_position": {
    "height": "calc(100% - 180px)",
    "left": "10px",
    "top": "150px",
    "width": "164.988px"
   },
   "toc_section_display": true,
   "toc_window_display": true
  },
  "varInspector": {
   "cols": {
    "lenName": 16,
    "lenType": 16,
    "lenVar": 40
   },
   "kernels_config": {
    "python": {
     "delete_cmd_postfix": "",
     "delete_cmd_prefix": "del ",
     "library": "var_list.py",
     "varRefreshCmd": "print(var_dic_list())"
    },
    "r": {
     "delete_cmd_postfix": ") ",
     "delete_cmd_prefix": "rm(",
     "library": "var_list.r",
     "varRefreshCmd": "cat(var_dic_list()) "
    }
   },
   "types_to_exclude": [
    "module",
    "function",
    "builtin_function_or_method",
    "instance",
    "_Feature"
   ],
   "window_display": false
  }
 },
 "nbformat": 4,
 "nbformat_minor": 5
}

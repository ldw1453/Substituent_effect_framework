{
 "cells": [
  {
   "cell_type": "markdown",
   "id": "018c7422",
   "metadata": {},
   "source": [
    "# import"
   ]
  },
  {
   "cell_type": "code",
   "execution_count": 1,
   "id": "bf3cae97",
   "metadata": {
    "ExecuteTime": {
     "end_time": "2023-05-07T04:20:31.967429Z",
     "start_time": "2023-05-07T04:20:31.422806Z"
    }
   },
   "outputs": [],
   "source": [
    "import pandas as pd\n",
    "from pandas import DataFrame\n",
    "from os import sep\n",
    "import numpy as np\n",
    "import re\n",
    "import csv\n",
    "import warnings\n",
    "warnings.filterwarnings(\"ignore\")\n",
    "import seaborn as sns\n",
    "import matplotlib.pyplot as plt\n",
    "from tqdm import tqdm\n",
    "import multiprocessing\n",
    "\n",
    "from rdkit.Chem import Descriptors\n",
    "from rdkit.ML.Descriptors import MoleculeDescriptors"
   ]
  },
  {
   "cell_type": "code",
   "execution_count": 4,
   "id": "84afb741",
   "metadata": {
    "ExecuteTime": {
     "end_time": "2023-05-07T04:21:53.541314Z",
     "start_time": "2023-05-07T04:21:53.534456Z"
    }
   },
   "outputs": [],
   "source": [
    "from sklearn import linear_model\n",
    "from sklearn import tree\n",
    "from sklearn.kernel_ridge import KernelRidge\n",
    "from sklearn.svm import SVR, LinearSVR\n",
    "from sklearn.neighbors import KNeighborsRegressor\n",
    "from sklearn.ensemble import RandomForestRegressor,ExtraTreesRegressor,AdaBoostRegressor,\\\n",
    "ExtraTreesClassifier,RandomForestClassifier,GradientBoostingRegressor,BaggingRegressor\n",
    "import xgboost as xgb\n",
    "from sklearn.model_selection import KFold\n",
    "from sklearn.linear_model import LinearRegression\n",
    "from sklearn.model_selection import train_test_split\n",
    "from sklearn.metrics import mean_absolute_error,r2_score\n",
    "from sklearn.model_selection import GridSearchCV\n",
    "from sklearn.model_selection import RandomizedSearchCV\n",
    "from sklearn.metrics import mean_squared_error\n",
    "from sklearn.model_selection import cross_val_score\n",
    "\n",
    "import optuna\n",
    "from feature_engine.selection import RecursiveFeatureAddition\n",
    "from feature_engine.selection import RecursiveFeatureElimination\n",
    "\n",
    "from scipy.stats import pearsonr,uniform\n",
    "from scipy.stats import median_absolute_deviation\n",
    "\n",
    "from descriptor.OneHot import get_oh,des_std"
   ]
  },
  {
   "cell_type": "code",
   "execution_count": 5,
   "id": "10370e94",
   "metadata": {
    "ExecuteTime": {
     "end_time": "2023-05-07T04:21:57.242628Z",
     "start_time": "2023-05-07T04:21:57.237543Z"
    }
   },
   "outputs": [],
   "source": [
    "def run_imap_mp(func, argument_list, num_processes='', is_tqdm=True):\n",
    "    result_list_tqdm = []\n",
    "\n",
    "    if num_processes == '':\n",
    "        num_processes = multiprocessing.cpu_count()-3\n",
    "    pool = multiprocessing.Pool(processes=num_processes)\n",
    "    if is_tqdm:\n",
    "        #from tqdm import tqdm\n",
    "        for result in tqdm(pool.imap(func=func,iterable=argument_list),\n",
    "                           total=len(argument_list)):\n",
    "            result_list_tqdm.append(result)\n",
    "    else:\n",
    "        for result in pool.imap(func=func, iterable=argument_list):\n",
    "            result_list_tqdm.append(result)\n",
    "    pool.close()\n",
    "\n",
    "    return result_list_tqdm"
   ]
  },
  {
   "cell_type": "code",
   "execution_count": 6,
   "id": "77377631",
   "metadata": {
    "ExecuteTime": {
     "end_time": "2023-05-07T04:21:58.154403Z",
     "start_time": "2023-05-07T04:21:58.146141Z"
    }
   },
   "outputs": [],
   "source": [
    "def pre_r2(model,tmp_des,tmp_lable):\n",
    "    all_r2 = []\n",
    "    np.random.seed(2023)\n",
    "    for i in range(5):\n",
    "        for train_index_tep,test_index_tep in kfold.split(tmp_des):\n",
    "            train_x,test_x = tmp_des[train_index_tep],tmp_des[test_index_tep]\n",
    "            train_y,test_y = tmp_lable[train_index_tep],tmp_lable[test_index_tep]\n",
    "            model.fit(train_x,train_y)\n",
    "            pre_y = model.predict(test_x)\n",
    "            tmp_r2 = r2_score(pre_y,test_y)\n",
    "            all_r2.append(tmp_r2)\n",
    "    r2 = np.mean(np.array(all_r2))\n",
    "    return r2\n",
    "\n",
    "def pre_multi(tmp_input):\n",
    "    index = tmp_input[0]\n",
    "    model = tmp_input[1]\n",
    "    tem_des_sel = tmp_input[2]\n",
    "    des = tmp_input[3]\n",
    "    lable = tmp_input[4]\n",
    "    tem_des_sel_x = tem_des_sel+[index]\n",
    "    tem_des = des[:,tem_des_sel_x]\n",
    "    r2 = pre_r2(model,tem_des,lable)\n",
    "    return [r2,tem_des_sel_x]\n",
    "\n",
    "def circle(des,lable,model,des_len,tem_des_sel):\n",
    "    all_r2=[]\n",
    "    try_index = np.delete(np.array(range(des_len)),tem_des_sel)\n",
    "    tmp_input = [(i,model,tem_des_sel,des,lable) for i in try_index]\n",
    "    tmp_output = run_imap_mp(pre_multi,tmp_input,num_processes=64,is_tqdm=False)\n",
    "    tmp_output.sort(key=lambda x:x[0],reverse=True)\n",
    "    return tmp_output[0][0],tmp_output[0][1]"
   ]
  },
  {
   "cell_type": "markdown",
   "id": "52f15d2e",
   "metadata": {},
   "source": [
    "# data"
   ]
  },
  {
   "cell_type": "code",
   "execution_count": 8,
   "id": "0913b20d",
   "metadata": {
    "ExecuteTime": {
     "end_time": "2023-05-07T04:22:06.476086Z",
     "start_time": "2023-05-07T04:22:06.455707Z"
    }
   },
   "outputs": [
    {
     "data": {
      "text/html": [
       "<div>\n",
       "<style scoped>\n",
       "    .dataframe tbody tr th:only-of-type {\n",
       "        vertical-align: middle;\n",
       "    }\n",
       "\n",
       "    .dataframe tbody tr th {\n",
       "        vertical-align: top;\n",
       "    }\n",
       "\n",
       "    .dataframe thead th {\n",
       "        text-align: right;\n",
       "    }\n",
       "</style>\n",
       "<table border=\"1\" class=\"dataframe\">\n",
       "  <thead>\n",
       "    <tr style=\"text-align: right;\">\n",
       "      <th></th>\n",
       "      <th>Catalyst</th>\n",
       "      <th>Imine</th>\n",
       "      <th>Thiol</th>\n",
       "      <th>Output</th>\n",
       "    </tr>\n",
       "  </thead>\n",
       "  <tbody>\n",
       "    <tr>\n",
       "      <th>0</th>\n",
       "      <td>O=P1(O)OC2=C(C3=CC=CC=C3)C=C4C(C=CC=C4)=C2C5=C...</td>\n",
       "      <td>O=C(C1=CC=CC=C1)/N=C/C2=CC=C(C(F)(F)F)C=C2</td>\n",
       "      <td>CCS</td>\n",
       "      <td>0.501759</td>\n",
       "    </tr>\n",
       "    <tr>\n",
       "      <th>1</th>\n",
       "      <td>O=P1(O)OC2=C(C3=C(F)C=C(OC)C=C3F)C=C4C(C=CC=C4...</td>\n",
       "      <td>O=C(C1=CC=CC=C1)/N=C/C2=CC=C(C(F)(F)F)C=C2</td>\n",
       "      <td>CCS</td>\n",
       "      <td>1.074991</td>\n",
       "    </tr>\n",
       "    <tr>\n",
       "      <th>2</th>\n",
       "      <td>O=P1(O)OC2=C(C3=C(C)C=C(C)C=C3C)C=C4C(C=CC=C4)...</td>\n",
       "      <td>O=C(C1=CC=CC=C1)/N=C/C2=CC=C(C(F)(F)F)C=C2</td>\n",
       "      <td>CCS</td>\n",
       "      <td>1.179891</td>\n",
       "    </tr>\n",
       "    <tr>\n",
       "      <th>3</th>\n",
       "      <td>O=P1(O)OC2=C(C3=CC(C)=C(OC(C)C)C(C)=C3)C=C4C(C...</td>\n",
       "      <td>O=C(C1=CC=CC=C1)/N=C/C2=CC=C(C(F)(F)F)C=C2</td>\n",
       "      <td>CCS</td>\n",
       "      <td>0.446374</td>\n",
       "    </tr>\n",
       "    <tr>\n",
       "      <th>4</th>\n",
       "      <td>O=P1(O)OC2=C(C3=CC=C(S(F)(F)(F)(F)F)C=C3)C=C4C...</td>\n",
       "      <td>O=C(C1=CC=CC=C1)/N=C/C2=CC=C(C(F)(F)F)C=C2</td>\n",
       "      <td>CCS</td>\n",
       "      <td>0.530235</td>\n",
       "    </tr>\n",
       "    <tr>\n",
       "      <th>...</th>\n",
       "      <td>...</td>\n",
       "      <td>...</td>\n",
       "      <td>...</td>\n",
       "      <td>...</td>\n",
       "    </tr>\n",
       "    <tr>\n",
       "      <th>1070</th>\n",
       "      <td>O=P1(O)OC2=C(C3=CC(C(F)(F)F)=CC(C(F)(F)F)=C3)C...</td>\n",
       "      <td>O=C(C1=CC=CC=C1)/N=C/C2=CC=CC3=C2C=CC=C3</td>\n",
       "      <td>SC1CCCCC1</td>\n",
       "      <td>0.682601</td>\n",
       "    </tr>\n",
       "    <tr>\n",
       "      <th>1071</th>\n",
       "      <td>O=P1(O)OC2=C(C3=C(C(C)C)C=C(C(C)C)C=C3C(C)C)C=...</td>\n",
       "      <td>O=C(C1=CC=CC=C1)/N=C/C2=CC=CC3=C2C=CC=C3</td>\n",
       "      <td>SC1CCCCC1</td>\n",
       "      <td>1.743658</td>\n",
       "    </tr>\n",
       "    <tr>\n",
       "      <th>1072</th>\n",
       "      <td>O=P1(O)OC2=C(C3=C(C4CCCCC4)C=C(C5CCCCC5)C=C3C6...</td>\n",
       "      <td>O=C(C1=CC=CC=C1)/N=C/C2=CC=CC3=C2C=CC=C3</td>\n",
       "      <td>SC1CCCCC1</td>\n",
       "      <td>1.743658</td>\n",
       "    </tr>\n",
       "    <tr>\n",
       "      <th>1073</th>\n",
       "      <td>O=P1(O)OC2=C(C3=C(C(C)C)C=C(C4=CC=C(C(C)(C)C)C...</td>\n",
       "      <td>O=C(C1=CC=CC=C1)/N=C/C2=CC=CC3=C2C=CC=C3</td>\n",
       "      <td>SC1CCCCC1</td>\n",
       "      <td>1.446325</td>\n",
       "    </tr>\n",
       "    <tr>\n",
       "      <th>1074</th>\n",
       "      <td>O=P1(O)OC2=C(C3=C(C=CC4=CC=CC(C=C5)=C46)C6=C5C...</td>\n",
       "      <td>O=C(C1=CC=CC=C1)/N=C/C2=CC=CC3=C2C=CC=C3</td>\n",
       "      <td>SC1CCCCC1</td>\n",
       "      <td>1.743658</td>\n",
       "    </tr>\n",
       "  </tbody>\n",
       "</table>\n",
       "<p>1075 rows × 4 columns</p>\n",
       "</div>"
      ],
      "text/plain": [
       "                                               Catalyst  \\\n",
       "0     O=P1(O)OC2=C(C3=CC=CC=C3)C=C4C(C=CC=C4)=C2C5=C...   \n",
       "1     O=P1(O)OC2=C(C3=C(F)C=C(OC)C=C3F)C=C4C(C=CC=C4...   \n",
       "2     O=P1(O)OC2=C(C3=C(C)C=C(C)C=C3C)C=C4C(C=CC=C4)...   \n",
       "3     O=P1(O)OC2=C(C3=CC(C)=C(OC(C)C)C(C)=C3)C=C4C(C...   \n",
       "4     O=P1(O)OC2=C(C3=CC=C(S(F)(F)(F)(F)F)C=C3)C=C4C...   \n",
       "...                                                 ...   \n",
       "1070  O=P1(O)OC2=C(C3=CC(C(F)(F)F)=CC(C(F)(F)F)=C3)C...   \n",
       "1071  O=P1(O)OC2=C(C3=C(C(C)C)C=C(C(C)C)C=C3C(C)C)C=...   \n",
       "1072  O=P1(O)OC2=C(C3=C(C4CCCCC4)C=C(C5CCCCC5)C=C3C6...   \n",
       "1073  O=P1(O)OC2=C(C3=C(C(C)C)C=C(C4=CC=C(C(C)(C)C)C...   \n",
       "1074  O=P1(O)OC2=C(C3=C(C=CC4=CC=CC(C=C5)=C46)C6=C5C...   \n",
       "\n",
       "                                           Imine      Thiol    Output  \n",
       "0     O=C(C1=CC=CC=C1)/N=C/C2=CC=C(C(F)(F)F)C=C2        CCS  0.501759  \n",
       "1     O=C(C1=CC=CC=C1)/N=C/C2=CC=C(C(F)(F)F)C=C2        CCS  1.074991  \n",
       "2     O=C(C1=CC=CC=C1)/N=C/C2=CC=C(C(F)(F)F)C=C2        CCS  1.179891  \n",
       "3     O=C(C1=CC=CC=C1)/N=C/C2=CC=C(C(F)(F)F)C=C2        CCS  0.446374  \n",
       "4     O=C(C1=CC=CC=C1)/N=C/C2=CC=C(C(F)(F)F)C=C2        CCS  0.530235  \n",
       "...                                          ...        ...       ...  \n",
       "1070    O=C(C1=CC=CC=C1)/N=C/C2=CC=CC3=C2C=CC=C3  SC1CCCCC1  0.682601  \n",
       "1071    O=C(C1=CC=CC=C1)/N=C/C2=CC=CC3=C2C=CC=C3  SC1CCCCC1  1.743658  \n",
       "1072    O=C(C1=CC=CC=C1)/N=C/C2=CC=CC3=C2C=CC=C3  SC1CCCCC1  1.743658  \n",
       "1073    O=C(C1=CC=CC=C1)/N=C/C2=CC=CC3=C2C=CC=C3  SC1CCCCC1  1.446325  \n",
       "1074    O=C(C1=CC=CC=C1)/N=C/C2=CC=CC3=C2C=CC=C3  SC1CCCCC1  1.743658  \n",
       "\n",
       "[1075 rows x 4 columns]"
      ]
     },
     "execution_count": 8,
     "metadata": {},
     "output_type": "execute_result"
    }
   ],
   "source": [
    "df = pd.read_csv('dataset'+sep+'danmark.csv')\n",
    "cat_smiles = np.array(df['Catalyst'].to_list())\n",
    "imine_smiles = np.array(df['Imine'].to_list())\n",
    "thiol_smiles = np.array(df['Thiol'].to_list())\n",
    "labels = np.array(df['Output'].to_list())\n",
    "labels_std = (labels - labels.min())/(labels.max()-labels.min())\n",
    "labels_std_par = labels.max()-labels.min()\n",
    "cat_smi_set = list(set(cat_smiles))\n",
    "imine_smi_set = list(set(imine_smiles))\n",
    "thiol_smi_set = list(set(thiol_smiles))\n",
    "cat_smi_set.sort()\n",
    "imine_smi_set.sort()\n",
    "thiol_smi_set.sort()\n",
    "df"
   ]
  },
  {
   "cell_type": "markdown",
   "id": "4b1f2798",
   "metadata": {
    "heading_collapsed": true
   },
   "source": [
    "# descriptors"
   ]
  },
  {
   "cell_type": "markdown",
   "id": "5f8e83c3",
   "metadata": {
    "hidden": true
   },
   "source": [
    "## OH"
   ]
  },
  {
   "cell_type": "code",
   "execution_count": 9,
   "id": "e45c0aea",
   "metadata": {
    "ExecuteTime": {
     "end_time": "2023-05-07T04:23:04.540804Z",
     "start_time": "2023-05-07T04:23:04.525717Z"
    },
    "hidden": true
   },
   "outputs": [],
   "source": [
    "cat_oh_desc=get_oh(cat_smiles)\n",
    "imine_oh_desc=get_oh(imine_smiles)\n",
    "thiol_oh_desc=get_oh(thiol_smiles)\n",
    "oh_react_feat = np.concatenate([cat_oh_desc,imine_oh_desc,thiol_oh_desc],axis = 1)\n",
    "oh_react_feat_std=des_std(oh_react_feat)"
   ]
  },
  {
   "cell_type": "markdown",
   "id": "41f71dd2",
   "metadata": {
    "hidden": true
   },
   "source": [
    "## path_OH"
   ]
  },
  {
   "cell_type": "code",
   "execution_count": 10,
   "id": "607b2873",
   "metadata": {
    "ExecuteTime": {
     "end_time": "2023-05-07T04:23:05.442786Z",
     "start_time": "2023-05-07T04:23:05.164850Z"
    },
    "hidden": true
   },
   "outputs": [],
   "source": [
    "df_OH = pd.read_csv('descriptor'+sep+'des_danmark_path_onehot.csv')\n",
    "dic_df_OH = df_OH.to_dict('list')\n",
    "sta_path_OH_des_name = list(dic_df_OH.keys())[:]\n",
    "sta_path_OH_des = np.transpose(list(dic_df_OH.values())[:])\n",
    "descs_onehot = [sta_path_OH_des,oh_react_feat_std]\n",
    "descs_onehot_names = ['path_OH','OH']"
   ]
  },
  {
   "cell_type": "markdown",
   "id": "51f8b81a",
   "metadata": {
    "hidden": true
   },
   "source": [
    "### ste_ele"
   ]
  },
  {
   "cell_type": "code",
   "execution_count": 11,
   "id": "fa2b5675",
   "metadata": {
    "ExecuteTime": {
     "end_time": "2023-05-07T04:23:06.439803Z",
     "start_time": "2023-05-07T04:23:05.996928Z"
    },
    "hidden": true
   },
   "outputs": [],
   "source": [
    "df_ste_ele = pd.read_csv('descriptor'+sep+'des_danmark_ste_ele.csv')\n",
    "dic_df_ste_ele = df_ste_ele.to_dict('list')\n",
    "sta_path_ste_ele_des_name = list(dic_df_ste_ele.keys())[:]\n",
    "sta_path_ste_ele_des = np.transpose(list(dic_df_ste_ele.values())[:])"
   ]
  },
  {
   "cell_type": "markdown",
   "id": "f5b87246",
   "metadata": {},
   "source": [
    "# model"
   ]
  },
  {
   "cell_type": "code",
   "execution_count": 12,
   "id": "78898cae",
   "metadata": {
    "ExecuteTime": {
     "end_time": "2023-05-07T04:23:08.183595Z",
     "start_time": "2023-05-07T04:23:08.178469Z"
    }
   },
   "outputs": [],
   "source": [
    "models = [BaggingRegressor(n_jobs=-1),\n",
    "          tree.DecisionTreeRegressor(),ExtraTreesRegressor(n_jobs=-1),\n",
    "          GradientBoostingRegressor(),\n",
    "          KNeighborsRegressor(n_jobs=-1),KernelRidge(),\n",
    "          LinearSVR(),RandomForestRegressor(n_jobs=-1),\n",
    "          linear_model.Ridge(),SVR(C=1,epsilon=0.01,gamma='auto'),AdaBoostRegressor(),\n",
    "          xgb.XGBRegressor(n_jobs=-1)]\n",
    "model_names = ['BG','DT','ET','GB','KNR','KRR','LSVR','RF','Ridge',\n",
    "               'SVR','Ada','XGB']\n",
    "\n",
    "kfold = KFold(n_splits=5,shuffle=True)"
   ]
  },
  {
   "cell_type": "markdown",
   "id": "0287230f",
   "metadata": {
    "heading_collapsed": true
   },
   "source": [
    "# One-Hot"
   ]
  },
  {
   "cell_type": "markdown",
   "id": "da15186b",
   "metadata": {
    "hidden": true
   },
   "source": [
    "### model selection"
   ]
  },
  {
   "cell_type": "code",
   "execution_count": 11,
   "id": "eadef27d",
   "metadata": {
    "ExecuteTime": {
     "end_time": "2023-04-22T04:52:50.469511Z",
     "start_time": "2023-04-22T04:51:28.510278Z"
    },
    "hidden": true,
    "scrolled": true
   },
   "outputs": [
    {
     "name": "stdout",
     "output_type": "stream",
     "text": [
      "Model:    BG, Descriptor:  path_OH: R2: 0.8873, MAE: 0.0434, RMSE: 0.0634,\n",
      "        Pearson R: 0.9469\n",
      "Model:    BG, Descriptor:       OH: R2: 0.8849, MAE: 0.0442, RMSE: 0.0641,\n",
      "        Pearson R: 0.9457\n",
      "Model:    DT, Descriptor:  path_OH: R2: 0.8589, MAE: 0.0490, RMSE: 0.0737,\n",
      "        Pearson R: 0.9302\n",
      "Model:    DT, Descriptor:       OH: R2: 0.8636, MAE: 0.0495, RMSE: 0.0730,\n",
      "        Pearson R: 0.9323\n",
      "Model:    ET, Descriptor:  path_OH: R2: 0.8654, MAE: 0.0476, RMSE: 0.0717,\n",
      "        Pearson R: 0.9341\n",
      "Model:    ET, Descriptor:       OH: R2: 0.8679, MAE: 0.0484, RMSE: 0.0712,\n",
      "        Pearson R: 0.9352\n",
      "Model:    GB, Descriptor:  path_OH: R2: 0.7779, MAE: 0.0549, RMSE: 0.0741,\n",
      "        Pearson R: 0.9364\n",
      "Model:    GB, Descriptor:       OH: R2: 0.7384, MAE: 0.0573, RMSE: 0.0768,\n",
      "        Pearson R: 0.9364\n",
      "Model:   KNR, Descriptor:  path_OH: R2: 0.7361, MAE: 0.0677, RMSE: 0.0875,\n",
      "        Pearson R: 0.8965\n",
      "Model:   KNR, Descriptor:       OH: R2: -0.8177, MAE: 0.1614, RMSE: 0.2093,\n",
      "        Pearson R: 0.3204\n",
      "Model:   KRR, Descriptor:  path_OH: R2: 0.8495, MAE: 0.0516, RMSE: 0.0712,\n",
      "        Pearson R: 0.9325\n",
      "Model:   KRR, Descriptor:       OH: R2: 0.8362, MAE: 0.0517, RMSE: 0.0715,\n",
      "        Pearson R: 0.9323\n",
      "Model:  LSVR, Descriptor:  path_OH: R2: 0.8307, MAE: 0.0548, RMSE: 0.0777,\n",
      "        Pearson R: 0.9220\n",
      "Model:  LSVR, Descriptor:       OH: R2: 0.8378, MAE: 0.0520, RMSE: 0.0750,\n",
      "        Pearson R: 0.9263\n",
      "Model:    RF, Descriptor:  path_OH: R2: 0.8979, MAE: 0.0413, RMSE: 0.0602,\n",
      "        Pearson R: 0.9527\n",
      "Model:    RF, Descriptor:       OH: R2: 0.8943, MAE: 0.0422, RMSE: 0.0613,\n",
      "        Pearson R: 0.9509\n",
      "Model: Ridge, Descriptor:  path_OH: R2: 0.8496, MAE: 0.0516, RMSE: 0.0712,\n",
      "        Pearson R: 0.9325\n",
      "Model: Ridge, Descriptor:       OH: R2: 0.8363, MAE: 0.0518, RMSE: 0.0715,\n",
      "        Pearson R: 0.9323\n",
      "Model:   SVR, Descriptor:  path_OH: R2: 0.7296, MAE: 0.0558, RMSE: 0.0803,\n",
      "        Pearson R: 0.9252\n",
      "Model:   SVR, Descriptor:       OH: R2: 0.7440, MAE: 0.0526, RMSE: 0.0785,\n",
      "        Pearson R: 0.9284\n",
      "Model:   Ada, Descriptor:  path_OH: R2: -0.9491, MAE: 0.1141, RMSE: 0.1391,\n",
      "        Pearson R: 0.7711\n",
      "Model:   Ada, Descriptor:       OH: R2: -2.3893, MAE: 0.1312, RMSE: 0.1573,\n",
      "        Pearson R: 0.6310\n",
      "Model:   XGB, Descriptor:  path_OH: R2: 0.8891, MAE: 0.0429, RMSE: 0.0633,\n",
      "        Pearson R: 0.9474\n",
      "Model:   XGB, Descriptor:       OH: R2: 0.8836, MAE: 0.0440, RMSE: 0.0648,\n",
      "        Pearson R: 0.9449\n"
     ]
    }
   ],
   "source": [
    "model_performance = {}\n",
    "for model,model_name in zip(models,model_names):\n",
    "    for desc,desc_name in zip(descs_onehot,descs_onehot_names): \n",
    "        all_r2 = []\n",
    "        all_pearsr = []\n",
    "        all_mae = []\n",
    "        all_rmse= []\n",
    "        repeat_pred = []\n",
    "        repeat_test = []\n",
    "        np.random.seed(2023)\n",
    "        for i in range(5):\n",
    "            for train_index_tep,test_index_tep in kfold.split(desc):\n",
    "                train_x,test_x = desc[train_index_tep],desc[test_index_tep]\n",
    "                train_y,test_y = labels_std[train_index_tep],labels_std[test_index_tep]\n",
    "                model.fit(train_x,train_y)\n",
    "                pre_y = model.predict(test_x)\n",
    "                repeat_test.extend(list(test_y))\n",
    "                repeat_pred.extend(list(pre_y))\n",
    "                r2 = r2_score(pre_y,test_y)\n",
    "                pearsr = pearsonr(pre_y,test_y)[0]\n",
    "                mae = mean_absolute_error(pre_y,test_y)\n",
    "                rmse=(mean_squared_error(pre_y,test_y))**(0.5)\n",
    "                all_r2.append(r2)\n",
    "                all_pearsr.append(pearsr)\n",
    "                all_mae.append(mae)\n",
    "                all_rmse.append(rmse)\n",
    "        model_performance['%s-%s'%(model_name,desc_name)] = [np.mean(all_r2),\n",
    "        np.mean(all_pearsr),np.mean(all_mae),np.mean(all_rmse),\n",
    "        repeat_pred[np.argmax(all_r2)],repeat_test[np.argmax(all_r2)]]\n",
    "        print('''Model: %5s, Descriptor: %8s: R2: %.4f, MAE: %.4f, RMSE: %.4f,\n",
    "        Pearson R: %.4f'''%(model_name,desc_name,np.mean(all_r2),np.mean(all_mae)\n",
    "                            ,np.mean(all_rmse),np.mean(all_pearsr)))"
   ]
  },
  {
   "cell_type": "code",
   "execution_count": 12,
   "id": "26e76ff6",
   "metadata": {
    "ExecuteTime": {
     "end_time": "2023-04-22T04:52:52.439142Z",
     "start_time": "2023-04-22T04:52:52.258025Z"
    },
    "hidden": true
   },
   "outputs": [
    {
     "data": {
      "text/plain": [
       "<AxesSubplot: >"
      ]
     },
     "execution_count": 12,
     "metadata": {},
     "output_type": "execute_result"
    },
    {
     "data": {
      "image/png": "[encoded data removed]",
      "text/plain": [
       "<Figure size 2000x300 with 2 Axes>"
      ]
     },
     "metadata": {},
     "output_type": "display_data"
    }
   ],
   "source": [
    "r2_map = np.zeros((len(descs_onehot_names),len(model_names)))\n",
    "for i,m in enumerate(model_names):\n",
    "    for j,d in enumerate(descs_onehot_names):\n",
    "        r2_map[j,i] = model_performance['%s-%s'%(m,d)][0]\n",
    "\n",
    "fig = plt.figure(figsize=(20,3))\n",
    "sns.heatmap((r2_map),annot=True,fmt='.3f',xticklabels=model_names,\n",
    "            yticklabels=descs_onehot_names,cmap='Blues',vmin=0.8,vmax=0.9,\n",
    "            linewidths=1,linecolor='silver')"
   ]
  },
  {
   "cell_type": "code",
   "execution_count": 13,
   "id": "5e59d0a1",
   "metadata": {
    "ExecuteTime": {
     "end_time": "2023-04-22T04:53:17.580345Z",
     "start_time": "2023-04-22T04:53:17.414252Z"
    },
    "hidden": true
   },
   "outputs": [
    {
     "data": {
      "text/plain": [
       "<AxesSubplot: >"
      ]
     },
     "execution_count": 13,
     "metadata": {},
     "output_type": "execute_result"
    },
    {
     "data": {
      "image/png": "[encoded data removed]",
      "text/plain": [
       "<Figure size 2000x300 with 2 Axes>"
      ]
     },
     "metadata": {},
     "output_type": "display_data"
    }
   ],
   "source": [
    "r2_map = np.zeros((len(descs_onehot_names),len(model_names)))\n",
    "for i,m in enumerate(model_names):\n",
    "    for j,d in enumerate(descs_onehot_names):\n",
    "        r2_map[j,i] = model_performance['%s-%s'%(m,d)][2]\n",
    "\n",
    "fig = plt.figure(figsize=(20,3))\n",
    "sns.heatmap((r2_map),annot=True,fmt='.3f',xticklabels=model_names,\n",
    "            yticklabels=descs_onehot_names,vmin=0.04,vmax=0.06,\n",
    "            linewidths=1,linecolor='silver')"
   ]
  },
  {
   "cell_type": "markdown",
   "id": "e9fbea50",
   "metadata": {
    "heading_collapsed": true
   },
   "source": [
    "# ste_ele"
   ]
  },
  {
   "cell_type": "code",
   "execution_count": 10,
   "id": "a41e0280",
   "metadata": {
    "ExecuteTime": {
     "end_time": "2023-05-06T07:51:14.428787Z",
     "start_time": "2023-05-06T07:51:14.426404Z"
    },
    "deletable": false,
    "editable": false,
    "hidden": true,
    "run_control": {
     "frozen": true
    }
   },
   "outputs": [],
   "source": [
    "with open('result'+sep+'ste_ele_des_sel.csv', 'w',newline=\"\") as f:\n",
    "    csv_writer = csv.writer(f)\n",
    "    csv_writer.writerow(['entry','max_r2','tem_des_sel_max'])"
   ]
  },
  {
   "cell_type": "code",
   "execution_count": null,
   "id": "5adf4083",
   "metadata": {
    "ExecuteTime": {
     "start_time": "2023-05-06T07:53:24.691Z"
    },
    "hidden": true,
    "scrolled": true
   },
   "outputs": [
    {
     "name": "stdout",
     "output_type": "stream",
     "text": [
      "1 0.48569833870621504 [286]\n",
      "2 0.7137776195868496 [286, 1327]\n",
      "3 0.8954155859473427 [286, 1327, 1330]\n",
      "4 0.8974627373515822 [286, 1327, 1330, 1326]\n",
      "5 0.9004805563779693 [286, 1327, 1330, 1326, 1322]\n",
      "6 0.9057083592900557 [286, 1327, 1330, 1326, 1322, 302]\n",
      "7 0.9063982824811744 [286, 1327, 1330, 1326, 1322, 302, 305]\n",
      "8 0.9066918744783519 [286, 1327, 1330, 1326, 1322, 302, 305, 304]\n",
      "9 0.9068621022277036 [286, 1327, 1330, 1326, 1322, 302, 305, 304, 1260]\n",
      "10 0.9070155693746128 [286, 1327, 1330, 1326, 1322, 302, 305, 304, 1260, 291]\n",
      "11 0.9070789682756173 [286, 1327, 1330, 1326, 1322, 302, 305, 304, 1260, 291, 1208]\n",
      "12 0.9071733549055648 [286, 1327, 1330, 1326, 1322, 302, 305, 304, 1260, 291, 1208, 303]\n",
      "13 0.907229339970414 [286, 1327, 1330, 1326, 1322, 302, 305, 304, 1260, 291, 1208, 303, 1074]\n",
      "14 0.9072296462905528 [286, 1327, 1330, 1326, 1322, 302, 305, 304, 1260, 291, 1208, 303, 1074, 1034]\n",
      "15 0.907264471003916 [286, 1327, 1330, 1326, 1322, 302, 305, 304, 1260, 291, 1208, 303, 1074, 1034, 1114]\n",
      "16 0.9072263795777299 [286, 1327, 1330, 1326, 1322, 302, 305, 304, 1260, 291, 1208, 303, 1074, 1034, 1114, 954]\n",
      "17 0.9072238390565869 [286, 1327, 1330, 1326, 1322, 302, 305, 304, 1260, 291, 1208, 303, 1074, 1034, 1114, 954, 1017]\n",
      "18 0.9071978257223181 [286, 1327, 1330, 1326, 1322, 302, 305, 304, 1260, 291, 1208, 303, 1074, 1034, 1114, 954, 1017, 955]\n",
      "19 0.9072634216265439 [286, 1327, 1330, 1326, 1322, 302, 305, 304, 1260, 291, 1208, 303, 1074, 1034, 1114, 954, 1017, 955, 920]\n",
      "20 0.9072448623686007 [286, 1327, 1330, 1326, 1322, 302, 305, 304, 1260, 291, 1208, 303, 1074, 1034, 1114, 954, 1017, 955, 920, 611]\n",
      "21 0.9072315106863529 [286, 1327, 1330, 1326, 1322, 302, 305, 304, 1260, 291, 1208, 303, 1074, 1034, 1114, 954, 1017, 955, 920, 611, 1134]\n",
      "22 0.9071981292310372 [286, 1327, 1330, 1326, 1322, 302, 305, 304, 1260, 291, 1208, 303, 1074, 1034, 1114, 954, 1017, 955, 920, 611, 1134, 1018]\n",
      "23 0.9072450273499615 [286, 1327, 1330, 1326, 1322, 302, 305, 304, 1260, 291, 1208, 303, 1074, 1034, 1114, 954, 1017, 955, 920, 611, 1134, 1018, 366]\n",
      "24 0.9072794963907053 [286, 1327, 1330, 1326, 1322, 302, 305, 304, 1260, 291, 1208, 303, 1074, 1034, 1114, 954, 1017, 955, 920, 611, 1134, 1018, 366, 1268]\n",
      "25 0.9072580447719385 [286, 1327, 1330, 1326, 1322, 302, 305, 304, 1260, 291, 1208, 303, 1074, 1034, 1114, 954, 1017, 955, 920, 611, 1134, 1018, 366, 1268, 921]\n",
      "26 0.9072630928567917 [286, 1327, 1330, 1326, 1322, 302, 305, 304, 1260, 291, 1208, 303, 1074, 1034, 1114, 954, 1017, 955, 920, 611, 1134, 1018, 366, 1268, 921, 296]\n",
      "27 0.9072855910875495 [286, 1327, 1330, 1326, 1322, 302, 305, 304, 1260, 291, 1208, 303, 1074, 1034, 1114, 954, 1017, 955, 920, 611, 1134, 1018, 366, 1268, 921, 296, 364]\n",
      "28 0.9072739926480436 [286, 1327, 1330, 1326, 1322, 302, 305, 304, 1260, 291, 1208, 303, 1074, 1034, 1114, 954, 1017, 955, 920, 611, 1134, 1018, 366, 1268, 921, 296, 364, 348]\n",
      "29 0.9072938217356256 [286, 1327, 1330, 1326, 1322, 302, 305, 304, 1260, 291, 1208, 303, 1074, 1034, 1114, 954, 1017, 955, 920, 611, 1134, 1018, 366, 1268, 921, 296, 364, 348, 712]\n",
      "30 0.9073104199300339 [286, 1327, 1330, 1326, 1322, 302, 305, 304, 1260, 291, 1208, 303, 1074, 1034, 1114, 954, 1017, 955, 920, 611, 1134, 1018, 366, 1268, 921, 296, 364, 348, 712, 1054]\n",
      "31 0.9073114569974472 [286, 1327, 1330, 1326, 1322, 302, 305, 304, 1260, 291, 1208, 303, 1074, 1034, 1114, 954, 1017, 955, 920, 611, 1134, 1018, 366, 1268, 921, 296, 364, 348, 712, 1054, 1188]\n",
      "32 0.9073486189548838 [286, 1327, 1330, 1326, 1322, 302, 305, 304, 1260, 291, 1208, 303, 1074, 1034, 1114, 954, 1017, 955, 920, 611, 1134, 1018, 366, 1268, 921, 296, 364, 348, 712, 1054, 1188, 1094]\n",
      "33 0.9073029762851881 [286, 1327, 1330, 1326, 1322, 302, 305, 304, 1260, 291, 1208, 303, 1074, 1034, 1114, 954, 1017, 955, 920, 611, 1134, 1018, 366, 1268, 921, 296, 364, 348, 712, 1054, 1188, 1094, 1135]\n",
      "34 0.9073038361618341 [286, 1327, 1330, 1326, 1322, 302, 305, 304, 1260, 291, 1208, 303, 1074, 1034, 1114, 954, 1017, 955, 920, 611, 1134, 1018, 366, 1268, 921, 296, 364, 348, 712, 1054, 1188, 1094, 1135, 1168]\n",
      "35 0.9073137487943174 [286, 1327, 1330, 1326, 1322, 302, 305, 304, 1260, 291, 1208, 303, 1074, 1034, 1114, 954, 1017, 955, 920, 611, 1134, 1018, 366, 1268, 921, 296, 364, 348, 712, 1054, 1188, 1094, 1135, 1168, 1209]\n",
      "36 0.9072697139519873 [286, 1327, 1330, 1326, 1322, 302, 305, 304, 1260, 291, 1208, 303, 1074, 1034, 1114, 954, 1017, 955, 920, 611, 1134, 1018, 366, 1268, 921, 296, 364, 348, 712, 1054, 1188, 1094, 1135, 1168, 1209, 746]\n",
      "37 0.9073251128843066 [286, 1327, 1330, 1326, 1322, 302, 305, 304, 1260, 291, 1208, 303, 1074, 1034, 1114, 954, 1017, 955, 920, 611, 1134, 1018, 366, 1268, 921, 296, 364, 348, 712, 1054, 1188, 1094, 1135, 1168, 1209, 746, 1075]\n",
      "38 0.9073083001022877 [286, 1327, 1330, 1326, 1322, 302, 305, 304, 1260, 291, 1208, 303, 1074, 1034, 1114, 954, 1017, 955, 920, 611, 1134, 1018, 366, 1268, 921, 296, 364, 348, 712, 1054, 1188, 1094, 1135, 1168, 1209, 746, 1075, 1020]\n",
      "39 0.9073161401654669 [286, 1327, 1330, 1326, 1322, 302, 305, 304, 1260, 291, 1208, 303, 1074, 1034, 1114, 954, 1017, 955, 920, 611, 1134, 1018, 366, 1268, 921, 296, 364, 348, 712, 1054, 1188, 1094, 1135, 1168, 1209, 746, 1075, 1020, 1076]\n",
      "40 0.9073295387566164 [286, 1327, 1330, 1326, 1322, 302, 305, 304, 1260, 291, 1208, 303, 1074, 1034, 1114, 954, 1017, 955, 920, 611, 1134, 1018, 366, 1268, 921, 296, 364, 348, 712, 1054, 1188, 1094, 1135, 1168, 1209, 746, 1075, 1020, 1076, 860]\n",
      "41 0.9072870064500493 [286, 1327, 1330, 1326, 1322, 302, 305, 304, 1260, 291, 1208, 303, 1074, 1034, 1114, 954, 1017, 955, 920, 611, 1134, 1018, 366, 1268, 921, 296, 364, 348, 712, 1054, 1188, 1094, 1135, 1168, 1209, 746, 1075, 1020, 1076, 860, 365]\n",
      "42 0.9072797789633633 [286, 1327, 1330, 1326, 1322, 302, 305, 304, 1260, 291, 1208, 303, 1074, 1034, 1114, 954, 1017, 955, 920, 611, 1134, 1018, 366, 1268, 921, 296, 364, 348, 712, 1054, 1188, 1094, 1135, 1168, 1209, 746, 1075, 1020, 1076, 860, 365, 612]\n",
      "43 0.9073045123430901 [286, 1327, 1330, 1326, 1322, 302, 305, 304, 1260, 291, 1208, 303, 1074, 1034, 1114, 954, 1017, 955, 920, 611, 1134, 1018, 366, 1268, 921, 296, 364, 348, 712, 1054, 1188, 1094, 1135, 1168, 1209, 746, 1075, 1020, 1076, 860, 365, 612, 732]\n",
      "44 0.9072937908411507 [286, 1327, 1330, 1326, 1322, 302, 305, 304, 1260, 291, 1208, 303, 1074, 1034, 1114, 954, 1017, 955, 920, 611, 1134, 1018, 366, 1268, 921, 296, 364, 348, 712, 1054, 1188, 1094, 1135, 1168, 1209, 746, 1075, 1020, 1076, 860, 365, 612, 732, 940]\n",
      "45 0.9073094300789962 [286, 1327, 1330, 1326, 1322, 302, 305, 304, 1260, 291, 1208, 303, 1074, 1034, 1114, 954, 1017, 955, 920, 611, 1134, 1018, 366, 1268, 921, 296, 364, 348, 712, 1054, 1188, 1094, 1135, 1168, 1209, 746, 1075, 1020, 1076, 860, 365, 612, 732, 940, 1228]\n",
      "46 0.907290070958214 [286, 1327, 1330, 1326, 1322, 302, 305, 304, 1260, 291, 1208, 303, 1074, 1034, 1114, 954, 1017, 955, 920, 611, 1134, 1018, 366, 1268, 921, 296, 364, 348, 712, 1054, 1188, 1094, 1135, 1168, 1209, 746, 1075, 1020, 1076, 860, 365, 612, 732, 940, 1228, 941]\n",
      "47 0.9072665283010989 [286, 1327, 1330, 1326, 1322, 302, 305, 304, 1260, 291, 1208, 303, 1074, 1034, 1114, 954, 1017, 955, 920, 611, 1134, 1018, 366, 1268, 921, 296, 364, 348, 712, 1054, 1188, 1094, 1135, 1168, 1209, 746, 1075, 1020, 1076, 860, 365, 612, 732, 940, 1228, 941, 1210]\n",
      "48 0.9072934841118603 [286, 1327, 1330, 1326, 1322, 302, 305, 304, 1260, 291, 1208, 303, 1074, 1034, 1114, 954, 1017, 955, 920, 611, 1134, 1018, 366, 1268, 921, 296, 364, 348, 712, 1054, 1188, 1094, 1135, 1168, 1209, 746, 1075, 1020, 1076, 860, 365, 612, 732, 940, 1228, 941, 1210, 974]\n",
      "49 0.9073108047307944 [286, 1327, 1330, 1326, 1322, 302, 305, 304, 1260, 291, 1208, 303, 1074, 1034, 1114, 954, 1017, 955, 920, 611, 1134, 1018, 366, 1268, 921, 296, 364, 348, 712, 1054, 1188, 1094, 1135, 1168, 1209, 746, 1075, 1020, 1076, 860, 365, 612, 732, 940, 1228, 941, 1210, 974, 1115]\n",
      "50 0.9072989793349656 [286, 1327, 1330, 1326, 1322, 302, 305, 304, 1260, 291, 1208, 303, 1074, 1034, 1114, 954, 1017, 955, 920, 611, 1134, 1018, 366, 1268, 921, 296, 364, 348, 712, 1054, 1188, 1094, 1135, 1168, 1209, 746, 1075, 1020, 1076, 860, 365, 612, 732, 940, 1228, 941, 1210, 974, 1115, 1248]\n",
      "51 0.907349556856133 [286, 1327, 1330, 1326, 1322, 302, 305, 304, 1260, 291, 1208, 303, 1074, 1034, 1114, 954, 1017, 955, 920, 611, 1134, 1018, 366, 1268, 921, 296, 364, 348, 712, 1054, 1188, 1094, 1135, 1168, 1209, 746, 1075, 1020, 1076, 860, 365, 612, 732, 940, 1228, 941, 1210, 974, 1115, 1248, 1077]\n"
     ]
    },
    {
     "name": "stdout",
     "output_type": "stream",
     "text": [
      "52 0.9072829101418804 [286, 1327, 1330, 1326, 1322, 302, 305, 304, 1260, 291, 1208, 303, 1074, 1034, 1114, 954, 1017, 955, 920, 611, 1134, 1018, 366, 1268, 921, 296, 364, 348, 712, 1054, 1188, 1094, 1135, 1168, 1209, 746, 1075, 1020, 1076, 860, 365, 612, 732, 940, 1228, 941, 1210, 974, 1115, 1248, 1077, 747]\n",
      "53 0.9073112855295009 [286, 1327, 1330, 1326, 1322, 302, 305, 304, 1260, 291, 1208, 303, 1074, 1034, 1114, 954, 1017, 955, 920, 611, 1134, 1018, 366, 1268, 921, 296, 364, 348, 712, 1054, 1188, 1094, 1135, 1168, 1209, 746, 1075, 1020, 1076, 860, 365, 612, 732, 940, 1228, 941, 1210, 974, 1115, 1248, 1077, 747, 1021]\n",
      "54 0.9073124692640967 [286, 1327, 1330, 1326, 1322, 302, 305, 304, 1260, 291, 1208, 303, 1074, 1034, 1114, 954, 1017, 955, 920, 611, 1134, 1018, 366, 1268, 921, 296, 364, 348, 712, 1054, 1188, 1094, 1135, 1168, 1209, 746, 1075, 1020, 1076, 860, 365, 612, 732, 940, 1228, 941, 1210, 974, 1115, 1248, 1077, 747, 1021, 733]\n",
      "55 0.9072797262116099 [286, 1327, 1330, 1326, 1322, 302, 305, 304, 1260, 291, 1208, 303, 1074, 1034, 1114, 954, 1017, 955, 920, 611, 1134, 1018, 366, 1268, 921, 296, 364, 348, 712, 1054, 1188, 1094, 1135, 1168, 1209, 746, 1075, 1020, 1076, 860, 365, 612, 732, 940, 1228, 941, 1210, 974, 1115, 1248, 1077, 747, 1021, 733, 766]\n",
      "56 0.9072800507211602 [286, 1327, 1330, 1326, 1322, 302, 305, 304, 1260, 291, 1208, 303, 1074, 1034, 1114, 954, 1017, 955, 920, 611, 1134, 1018, 366, 1268, 921, 296, 364, 348, 712, 1054, 1188, 1094, 1135, 1168, 1209, 746, 1075, 1020, 1076, 860, 365, 612, 732, 940, 1228, 941, 1210, 974, 1115, 1248, 1077, 747, 1021, 733, 766, 1095]\n",
      "57 0.9072786923208143 [286, 1327, 1330, 1326, 1322, 302, 305, 304, 1260, 291, 1208, 303, 1074, 1034, 1114, 954, 1017, 955, 920, 611, 1134, 1018, 366, 1268, 921, 296, 364, 348, 712, 1054, 1188, 1094, 1135, 1168, 1209, 746, 1075, 1020, 1076, 860, 365, 612, 732, 940, 1228, 941, 1210, 974, 1115, 1248, 1077, 747, 1021, 733, 766, 1095, 1078]\n",
      "58 0.9072981933379183 [286, 1327, 1330, 1326, 1322, 302, 305, 304, 1260, 291, 1208, 303, 1074, 1034, 1114, 954, 1017, 955, 920, 611, 1134, 1018, 366, 1268, 921, 296, 364, 348, 712, 1054, 1188, 1094, 1135, 1168, 1209, 746, 1075, 1020, 1076, 860, 365, 612, 732, 940, 1228, 941, 1210, 974, 1115, 1248, 1077, 747, 1021, 733, 766, 1095, 1078, 1249]\n",
      "59 0.9072958206809721 [286, 1327, 1330, 1326, 1322, 302, 305, 304, 1260, 291, 1208, 303, 1074, 1034, 1114, 954, 1017, 955, 920, 611, 1134, 1018, 366, 1268, 921, 296, 364, 348, 712, 1054, 1188, 1094, 1135, 1168, 1209, 746, 1075, 1020, 1076, 860, 365, 612, 732, 940, 1228, 941, 1210, 974, 1115, 1248, 1077, 747, 1021, 733, 766, 1095, 1078, 1249, 644]\n",
      "60 0.9072912416701685 [286, 1327, 1330, 1326, 1322, 302, 305, 304, 1260, 291, 1208, 303, 1074, 1034, 1114, 954, 1017, 955, 920, 611, 1134, 1018, 366, 1268, 921, 296, 364, 348, 712, 1054, 1188, 1094, 1135, 1168, 1209, 746, 1075, 1020, 1076, 860, 365, 612, 732, 940, 1228, 941, 1210, 974, 1115, 1248, 1077, 747, 1021, 733, 766, 1095, 1078, 1249, 644, 826]\n",
      "61 0.9072921221616899 [286, 1327, 1330, 1326, 1322, 302, 305, 304, 1260, 291, 1208, 303, 1074, 1034, 1114, 954, 1017, 955, 920, 611, 1134, 1018, 366, 1268, 921, 296, 364, 348, 712, 1054, 1188, 1094, 1135, 1168, 1209, 746, 1075, 1020, 1076, 860, 365, 612, 732, 940, 1228, 941, 1210, 974, 1115, 1248, 1077, 747, 1021, 733, 766, 1095, 1078, 1249, 644, 826, 1136]\n",
      "62 0.907297492827744 [286, 1327, 1330, 1326, 1322, 302, 305, 304, 1260, 291, 1208, 303, 1074, 1034, 1114, 954, 1017, 955, 920, 611, 1134, 1018, 366, 1268, 921, 296, 364, 348, 712, 1054, 1188, 1094, 1135, 1168, 1209, 746, 1075, 1020, 1076, 860, 365, 612, 732, 940, 1228, 941, 1210, 974, 1115, 1248, 1077, 747, 1021, 733, 766, 1095, 1078, 1249, 644, 826, 1136, 748]\n",
      "63 0.9073019850803193 [286, 1327, 1330, 1326, 1322, 302, 305, 304, 1260, 291, 1208, 303, 1074, 1034, 1114, 954, 1017, 955, 920, 611, 1134, 1018, 366, 1268, 921, 296, 364, 348, 712, 1054, 1188, 1094, 1135, 1168, 1209, 746, 1075, 1020, 1076, 860, 365, 612, 732, 940, 1228, 941, 1210, 974, 1115, 1248, 1077, 747, 1021, 733, 766, 1095, 1078, 1249, 644, 826, 1136, 748, 997]\n",
      "64 0.9072765508864638 [286, 1327, 1330, 1326, 1322, 302, 305, 304, 1260, 291, 1208, 303, 1074, 1034, 1114, 954, 1017, 955, 920, 611, 1134, 1018, 366, 1268, 921, 296, 364, 348, 712, 1054, 1188, 1094, 1135, 1168, 1209, 746, 1075, 1020, 1076, 860, 365, 612, 732, 940, 1228, 941, 1210, 974, 1115, 1248, 1077, 747, 1021, 733, 766, 1095, 1078, 1249, 644, 826, 1136, 748, 997, 358]\n",
      "65 0.9072752657906341 [286, 1327, 1330, 1326, 1322, 302, 305, 304, 1260, 291, 1208, 303, 1074, 1034, 1114, 954, 1017, 955, 920, 611, 1134, 1018, 366, 1268, 921, 296, 364, 348, 712, 1054, 1188, 1094, 1135, 1168, 1209, 746, 1075, 1020, 1076, 860, 365, 612, 732, 940, 1228, 941, 1210, 974, 1115, 1248, 1077, 747, 1021, 733, 766, 1095, 1078, 1249, 644, 826, 1136, 748, 997, 358, 827]\n",
      "66 0.9072554388905898 [286, 1327, 1330, 1326, 1322, 302, 305, 304, 1260, 291, 1208, 303, 1074, 1034, 1114, 954, 1017, 955, 920, 611, 1134, 1018, 366, 1268, 921, 296, 364, 348, 712, 1054, 1188, 1094, 1135, 1168, 1209, 746, 1075, 1020, 1076, 860, 365, 612, 732, 940, 1228, 941, 1210, 974, 1115, 1248, 1077, 747, 1021, 733, 766, 1095, 1078, 1249, 644, 826, 1136, 748, 997, 358, 827, 751]\n",
      "67 0.9072519129650688 [286, 1327, 1330, 1326, 1322, 302, 305, 304, 1260, 291, 1208, 303, 1074, 1034, 1114, 954, 1017, 955, 920, 611, 1134, 1018, 366, 1268, 921, 296, 364, 348, 712, 1054, 1188, 1094, 1135, 1168, 1209, 746, 1075, 1020, 1076, 860, 365, 612, 732, 940, 1228, 941, 1210, 974, 1115, 1248, 1077, 747, 1021, 733, 766, 1095, 1078, 1249, 644, 826, 1136, 748, 997, 358, 827, 751, 922]\n",
      "68 0.9072742492111491 [286, 1327, 1330, 1326, 1322, 302, 305, 304, 1260, 291, 1208, 303, 1074, 1034, 1114, 954, 1017, 955, 920, 611, 1134, 1018, 366, 1268, 921, 296, 364, 348, 712, 1054, 1188, 1094, 1135, 1168, 1209, 746, 1075, 1020, 1076, 860, 365, 612, 732, 940, 1228, 941, 1210, 974, 1115, 1248, 1077, 747, 1021, 733, 766, 1095, 1078, 1249, 644, 826, 1136, 748, 997, 358, 827, 751, 922, 923]\n",
      "69 0.907264177646098 [286, 1327, 1330, 1326, 1322, 302, 305, 304, 1260, 291, 1208, 303, 1074, 1034, 1114, 954, 1017, 955, 920, 611, 1134, 1018, 366, 1268, 921, 296, 364, 348, 712, 1054, 1188, 1094, 1135, 1168, 1209, 746, 1075, 1020, 1076, 860, 365, 612, 732, 940, 1228, 941, 1210, 974, 1115, 1248, 1077, 747, 1021, 733, 766, 1095, 1078, 1249, 644, 826, 1136, 748, 997, 358, 827, 751, 922, 923, 767]\n",
      "70 0.9072930181022429 [286, 1327, 1330, 1326, 1322, 302, 305, 304, 1260, 291, 1208, 303, 1074, 1034, 1114, 954, 1017, 955, 920, 611, 1134, 1018, 366, 1268, 921, 296, 364, 348, 712, 1054, 1188, 1094, 1135, 1168, 1209, 746, 1075, 1020, 1076, 860, 365, 612, 732, 940, 1228, 941, 1210, 974, 1115, 1248, 1077, 747, 1021, 733, 766, 1095, 1078, 1249, 644, 826, 1136, 748, 997, 358, 827, 751, 922, 923, 767, 645]\n",
      "71 0.9072640789147907 [286, 1327, 1330, 1326, 1322, 302, 305, 304, 1260, 291, 1208, 303, 1074, 1034, 1114, 954, 1017, 955, 920, 611, 1134, 1018, 366, 1268, 921, 296, 364, 348, 712, 1054, 1188, 1094, 1135, 1168, 1209, 746, 1075, 1020, 1076, 860, 365, 612, 732, 940, 1228, 941, 1210, 974, 1115, 1248, 1077, 747, 1021, 733, 766, 1095, 1078, 1249, 644, 826, 1136, 748, 997, 358, 827, 751, 922, 923, 767, 645, 613]\n",
      "72 0.907278383193485 [286, 1327, 1330, 1326, 1322, 302, 305, 304, 1260, 291, 1208, 303, 1074, 1034, 1114, 954, 1017, 955, 920, 611, 1134, 1018, 366, 1268, 921, 296, 364, 348, 712, 1054, 1188, 1094, 1135, 1168, 1209, 746, 1075, 1020, 1076, 860, 365, 612, 732, 940, 1228, 941, 1210, 974, 1115, 1248, 1077, 747, 1021, 733, 766, 1095, 1078, 1249, 644, 826, 1136, 748, 997, 358, 827, 751, 922, 923, 767, 645, 613, 698]\n",
      "73 0.9072558704778234 [286, 1327, 1330, 1326, 1322, 302, 305, 304, 1260, 291, 1208, 303, 1074, 1034, 1114, 954, 1017, 955, 920, 611, 1134, 1018, 366, 1268, 921, 296, 364, 348, 712, 1054, 1188, 1094, 1135, 1168, 1209, 746, 1075, 1020, 1076, 860, 365, 612, 732, 940, 1228, 941, 1210, 974, 1115, 1248, 1077, 747, 1021, 733, 766, 1095, 1078, 1249, 644, 826, 1136, 748, 997, 358, 827, 751, 922, 923, 767, 645, 613, 698, 1250]\n",
      "74 0.9072465047627973 [286, 1327, 1330, 1326, 1322, 302, 305, 304, 1260, 291, 1208, 303, 1074, 1034, 1114, 954, 1017, 955, 920, 611, 1134, 1018, 366, 1268, 921, 296, 364, 348, 712, 1054, 1188, 1094, 1135, 1168, 1209, 746, 1075, 1020, 1076, 860, 365, 612, 732, 940, 1228, 941, 1210, 974, 1115, 1248, 1077, 747, 1021, 733, 766, 1095, 1078, 1249, 644, 826, 1136, 748, 997, 358, 827, 751, 922, 923, 767, 645, 613, 698, 1250, 1288]\n"
     ]
    },
    {
     "name": "stdout",
     "output_type": "stream",
     "text": [
      "75 0.9072448903276721 [286, 1327, 1330, 1326, 1322, 302, 305, 304, 1260, 291, 1208, 303, 1074, 1034, 1114, 954, 1017, 955, 920, 611, 1134, 1018, 366, 1268, 921, 296, 364, 348, 712, 1054, 1188, 1094, 1135, 1168, 1209, 746, 1075, 1020, 1076, 860, 365, 612, 732, 940, 1228, 941, 1210, 974, 1115, 1248, 1077, 747, 1021, 733, 766, 1095, 1078, 1249, 644, 826, 1136, 748, 997, 358, 827, 751, 922, 923, 767, 645, 613, 698, 1250, 1288, 594]\n",
      "76 0.9072583885068874 [286, 1327, 1330, 1326, 1322, 302, 305, 304, 1260, 291, 1208, 303, 1074, 1034, 1114, 954, 1017, 955, 920, 611, 1134, 1018, 366, 1268, 921, 296, 364, 348, 712, 1054, 1188, 1094, 1135, 1168, 1209, 746, 1075, 1020, 1076, 860, 365, 612, 732, 940, 1228, 941, 1210, 974, 1115, 1248, 1077, 747, 1021, 733, 766, 1095, 1078, 1249, 644, 826, 1136, 748, 997, 358, 827, 751, 922, 923, 767, 645, 613, 698, 1250, 1288, 594, 1096]\n",
      "77 0.9072901900663437 [286, 1327, 1330, 1326, 1322, 302, 305, 304, 1260, 291, 1208, 303, 1074, 1034, 1114, 954, 1017, 955, 920, 611, 1134, 1018, 366, 1268, 921, 296, 364, 348, 712, 1054, 1188, 1094, 1135, 1168, 1209, 746, 1075, 1020, 1076, 860, 365, 612, 732, 940, 1228, 941, 1210, 974, 1115, 1248, 1077, 747, 1021, 733, 766, 1095, 1078, 1249, 644, 826, 1136, 748, 997, 358, 827, 751, 922, 923, 767, 645, 613, 698, 1250, 1288, 594, 1096, 1154]\n",
      "78 0.9072902418190573 [286, 1327, 1330, 1326, 1322, 302, 305, 304, 1260, 291, 1208, 303, 1074, 1034, 1114, 954, 1017, 955, 920, 611, 1134, 1018, 366, 1268, 921, 296, 364, 348, 712, 1054, 1188, 1094, 1135, 1168, 1209, 746, 1075, 1020, 1076, 860, 365, 612, 732, 940, 1228, 941, 1210, 974, 1115, 1248, 1077, 747, 1021, 733, 766, 1095, 1078, 1249, 644, 826, 1136, 748, 997, 358, 827, 751, 922, 923, 767, 645, 613, 698, 1250, 1288, 594, 1096, 1154, 924]\n",
      "79 0.9072705852291014 [286, 1327, 1330, 1326, 1322, 302, 305, 304, 1260, 291, 1208, 303, 1074, 1034, 1114, 954, 1017, 955, 920, 611, 1134, 1018, 366, 1268, 921, 296, 364, 348, 712, 1054, 1188, 1094, 1135, 1168, 1209, 746, 1075, 1020, 1076, 860, 365, 612, 732, 940, 1228, 941, 1210, 974, 1115, 1248, 1077, 747, 1021, 733, 766, 1095, 1078, 1249, 644, 826, 1136, 748, 997, 358, 827, 751, 922, 923, 767, 645, 613, 698, 1250, 1288, 594, 1096, 1154, 924, 664]\n",
      "80 0.9072831652291679 [286, 1327, 1330, 1326, 1322, 302, 305, 304, 1260, 291, 1208, 303, 1074, 1034, 1114, 954, 1017, 955, 920, 611, 1134, 1018, 366, 1268, 921, 296, 364, 348, 712, 1054, 1188, 1094, 1135, 1168, 1209, 746, 1075, 1020, 1076, 860, 365, 612, 732, 940, 1228, 941, 1210, 974, 1115, 1248, 1077, 747, 1021, 733, 766, 1095, 1078, 1249, 644, 826, 1136, 748, 997, 358, 827, 751, 922, 923, 767, 645, 613, 698, 1250, 1288, 594, 1096, 1154, 924, 664, 1137]\n",
      "81 0.9072459314780178 [286, 1327, 1330, 1326, 1322, 302, 305, 304, 1260, 291, 1208, 303, 1074, 1034, 1114, 954, 1017, 955, 920, 611, 1134, 1018, 366, 1268, 921, 296, 364, 348, 712, 1054, 1188, 1094, 1135, 1168, 1209, 746, 1075, 1020, 1076, 860, 365, 612, 732, 940, 1228, 941, 1210, 974, 1115, 1248, 1077, 747, 1021, 733, 766, 1095, 1078, 1249, 644, 826, 1136, 748, 997, 358, 827, 751, 922, 923, 767, 645, 613, 698, 1250, 1288, 594, 1096, 1154, 924, 664, 1137, 1116]\n",
      "82 0.907326356347665 [286, 1327, 1330, 1326, 1322, 302, 305, 304, 1260, 291, 1208, 303, 1074, 1034, 1114, 954, 1017, 955, 920, 611, 1134, 1018, 366, 1268, 921, 296, 364, 348, 712, 1054, 1188, 1094, 1135, 1168, 1209, 746, 1075, 1020, 1076, 860, 365, 612, 732, 940, 1228, 941, 1210, 974, 1115, 1248, 1077, 747, 1021, 733, 766, 1095, 1078, 1249, 644, 826, 1136, 748, 997, 358, 827, 751, 922, 923, 767, 645, 613, 698, 1250, 1288, 594, 1096, 1154, 924, 664, 1137, 1116, 1289]\n",
      "83 0.9072977220706697 [286, 1327, 1330, 1326, 1322, 302, 305, 304, 1260, 291, 1208, 303, 1074, 1034, 1114, 954, 1017, 955, 920, 611, 1134, 1018, 366, 1268, 921, 296, 364, 348, 712, 1054, 1188, 1094, 1135, 1168, 1209, 746, 1075, 1020, 1076, 860, 365, 612, 732, 940, 1228, 941, 1210, 974, 1115, 1248, 1077, 747, 1021, 733, 766, 1095, 1078, 1249, 644, 826, 1136, 748, 997, 358, 827, 751, 922, 923, 767, 645, 613, 698, 1250, 1288, 594, 1096, 1154, 924, 664, 1137, 1116, 1289, 998]\n",
      "84 0.9072756742640204 [286, 1327, 1330, 1326, 1322, 302, 305, 304, 1260, 291, 1208, 303, 1074, 1034, 1114, 954, 1017, 955, 920, 611, 1134, 1018, 366, 1268, 921, 296, 364, 348, 712, 1054, 1188, 1094, 1135, 1168, 1209, 746, 1075, 1020, 1076, 860, 365, 612, 732, 940, 1228, 941, 1210, 974, 1115, 1248, 1077, 747, 1021, 733, 766, 1095, 1078, 1249, 644, 826, 1136, 748, 997, 358, 827, 751, 922, 923, 767, 645, 613, 698, 1250, 1288, 594, 1096, 1154, 924, 664, 1137, 1116, 1289, 998, 595]\n",
      "85 0.9073260440069529 [286, 1327, 1330, 1326, 1322, 302, 305, 304, 1260, 291, 1208, 303, 1074, 1034, 1114, 954, 1017, 955, 920, 611, 1134, 1018, 366, 1268, 921, 296, 364, 348, 712, 1054, 1188, 1094, 1135, 1168, 1209, 746, 1075, 1020, 1076, 860, 365, 612, 732, 940, 1228, 941, 1210, 974, 1115, 1248, 1077, 747, 1021, 733, 766, 1095, 1078, 1249, 644, 826, 1136, 748, 997, 358, 827, 751, 922, 923, 767, 645, 613, 698, 1250, 1288, 594, 1096, 1154, 924, 664, 1137, 1116, 1289, 998, 595, 734]\n",
      "86 0.9073169182985045 [286, 1327, 1330, 1326, 1322, 302, 305, 304, 1260, 291, 1208, 303, 1074, 1034, 1114, 954, 1017, 955, 920, 611, 1134, 1018, 366, 1268, 921, 296, 364, 348, 712, 1054, 1188, 1094, 1135, 1168, 1209, 746, 1075, 1020, 1076, 860, 365, 612, 732, 940, 1228, 941, 1210, 974, 1115, 1248, 1077, 747, 1021, 733, 766, 1095, 1078, 1249, 644, 826, 1136, 748, 997, 358, 827, 751, 922, 923, 767, 645, 613, 698, 1250, 1288, 594, 1096, 1154, 924, 664, 1137, 1116, 1289, 998, 595, 734, 1035]\n",
      "87 0.9072993402420632 [286, 1327, 1330, 1326, 1322, 302, 305, 304, 1260, 291, 1208, 303, 1074, 1034, 1114, 954, 1017, 955, 920, 611, 1134, 1018, 366, 1268, 921, 296, 364, 348, 712, 1054, 1188, 1094, 1135, 1168, 1209, 746, 1075, 1020, 1076, 860, 365, 612, 732, 940, 1228, 941, 1210, 974, 1115, 1248, 1077, 747, 1021, 733, 766, 1095, 1078, 1249, 644, 826, 1136, 748, 997, 358, 827, 751, 922, 923, 767, 645, 613, 698, 1250, 1288, 594, 1096, 1154, 924, 664, 1137, 1116, 1289, 998, 595, 734, 1035, 1155]\n",
      "88 0.9073037327702158 [286, 1327, 1330, 1326, 1322, 302, 305, 304, 1260, 291, 1208, 303, 1074, 1034, 1114, 954, 1017, 955, 920, 611, 1134, 1018, 366, 1268, 921, 296, 364, 348, 712, 1054, 1188, 1094, 1135, 1168, 1209, 746, 1075, 1020, 1076, 860, 365, 612, 732, 940, 1228, 941, 1210, 974, 1115, 1248, 1077, 747, 1021, 733, 766, 1095, 1078, 1249, 644, 826, 1136, 748, 997, 358, 827, 751, 922, 923, 767, 645, 613, 698, 1250, 1288, 594, 1096, 1154, 924, 664, 1137, 1116, 1289, 998, 595, 734, 1035, 1155, 646]\n",
      "89 0.9072851694358871 [286, 1327, 1330, 1326, 1322, 302, 305, 304, 1260, 291, 1208, 303, 1074, 1034, 1114, 954, 1017, 955, 920, 611, 1134, 1018, 366, 1268, 921, 296, 364, 348, 712, 1054, 1188, 1094, 1135, 1168, 1209, 746, 1075, 1020, 1076, 860, 365, 612, 732, 940, 1228, 941, 1210, 974, 1115, 1248, 1077, 747, 1021, 733, 766, 1095, 1078, 1249, 644, 826, 1136, 748, 997, 358, 827, 751, 922, 923, 767, 645, 613, 698, 1250, 1288, 594, 1096, 1154, 924, 664, 1137, 1116, 1289, 998, 595, 734, 1035, 1155, 646, 1229]\n",
      "90 0.9072720795601592 [286, 1327, 1330, 1326, 1322, 302, 305, 304, 1260, 291, 1208, 303, 1074, 1034, 1114, 954, 1017, 955, 920, 611, 1134, 1018, 366, 1268, 921, 296, 364, 348, 712, 1054, 1188, 1094, 1135, 1168, 1209, 746, 1075, 1020, 1076, 860, 365, 612, 732, 940, 1228, 941, 1210, 974, 1115, 1248, 1077, 747, 1021, 733, 766, 1095, 1078, 1249, 644, 826, 1136, 748, 997, 358, 827, 751, 922, 923, 767, 645, 613, 698, 1250, 1288, 594, 1096, 1154, 924, 664, 1137, 1116, 1289, 998, 595, 734, 1035, 1155, 646, 1229, 942]\n",
      "91 0.9072487828556592 [286, 1327, 1330, 1326, 1322, 302, 305, 304, 1260, 291, 1208, 303, 1074, 1034, 1114, 954, 1017, 955, 920, 611, 1134, 1018, 366, 1268, 921, 296, 364, 348, 712, 1054, 1188, 1094, 1135, 1168, 1209, 746, 1075, 1020, 1076, 860, 365, 612, 732, 940, 1228, 941, 1210, 974, 1115, 1248, 1077, 747, 1021, 733, 766, 1095, 1078, 1249, 644, 826, 1136, 748, 997, 358, 827, 751, 922, 923, 767, 645, 613, 698, 1250, 1288, 594, 1096, 1154, 924, 664, 1137, 1116, 1289, 998, 595, 734, 1035, 1155, 646, 1229, 942, 647]\n",
      "92 0.9073349388491806 [286, 1327, 1330, 1326, 1322, 302, 305, 304, 1260, 291, 1208, 303, 1074, 1034, 1114, 954, 1017, 955, 920, 611, 1134, 1018, 366, 1268, 921, 296, 364, 348, 712, 1054, 1188, 1094, 1135, 1168, 1209, 746, 1075, 1020, 1076, 860, 365, 612, 732, 940, 1228, 941, 1210, 974, 1115, 1248, 1077, 747, 1021, 733, 766, 1095, 1078, 1249, 644, 826, 1136, 748, 997, 358, 827, 751, 922, 923, 767, 645, 613, 698, 1250, 1288, 594, 1096, 1154, 924, 664, 1137, 1116, 1289, 998, 595, 734, 1035, 1155, 646, 1229, 942, 647, 1302]\n"
     ]
    },
    {
     "name": "stdout",
     "output_type": "stream",
     "text": [
      "93 0.907304822243065 [286, 1327, 1330, 1326, 1322, 302, 305, 304, 1260, 291, 1208, 303, 1074, 1034, 1114, 954, 1017, 955, 920, 611, 1134, 1018, 366, 1268, 921, 296, 364, 348, 712, 1054, 1188, 1094, 1135, 1168, 1209, 746, 1075, 1020, 1076, 860, 365, 612, 732, 940, 1228, 941, 1210, 974, 1115, 1248, 1077, 747, 1021, 733, 766, 1095, 1078, 1249, 644, 826, 1136, 748, 997, 358, 827, 751, 922, 923, 767, 645, 613, 698, 1250, 1288, 594, 1096, 1154, 924, 664, 1137, 1116, 1289, 998, 595, 734, 1035, 1155, 646, 1229, 942, 647, 1302, 828]\n",
      "94 0.9072585604866766 [286, 1327, 1330, 1326, 1322, 302, 305, 304, 1260, 291, 1208, 303, 1074, 1034, 1114, 954, 1017, 955, 920, 611, 1134, 1018, 366, 1268, 921, 296, 364, 348, 712, 1054, 1188, 1094, 1135, 1168, 1209, 746, 1075, 1020, 1076, 860, 365, 612, 732, 940, 1228, 941, 1210, 974, 1115, 1248, 1077, 747, 1021, 733, 766, 1095, 1078, 1249, 644, 826, 1136, 748, 997, 358, 827, 751, 922, 923, 767, 645, 613, 698, 1250, 1288, 594, 1096, 1154, 924, 664, 1137, 1116, 1289, 998, 595, 734, 1035, 1155, 646, 1229, 942, 647, 1302, 828, 1303]\n",
      "95 0.9072721192275844 [286, 1327, 1330, 1326, 1322, 302, 305, 304, 1260, 291, 1208, 303, 1074, 1034, 1114, 954, 1017, 955, 920, 611, 1134, 1018, 366, 1268, 921, 296, 364, 348, 712, 1054, 1188, 1094, 1135, 1168, 1209, 746, 1075, 1020, 1076, 860, 365, 612, 732, 940, 1228, 941, 1210, 974, 1115, 1248, 1077, 747, 1021, 733, 766, 1095, 1078, 1249, 644, 826, 1136, 748, 997, 358, 827, 751, 922, 923, 767, 645, 613, 698, 1250, 1288, 594, 1096, 1154, 924, 664, 1137, 1116, 1289, 998, 595, 734, 1035, 1155, 646, 1229, 942, 647, 1302, 828, 1303, 880]\n",
      "96 0.9072616088248777 [286, 1327, 1330, 1326, 1322, 302, 305, 304, 1260, 291, 1208, 303, 1074, 1034, 1114, 954, 1017, 955, 920, 611, 1134, 1018, 366, 1268, 921, 296, 364, 348, 712, 1054, 1188, 1094, 1135, 1168, 1209, 746, 1075, 1020, 1076, 860, 365, 612, 732, 940, 1228, 941, 1210, 974, 1115, 1248, 1077, 747, 1021, 733, 766, 1095, 1078, 1249, 644, 826, 1136, 748, 997, 358, 827, 751, 922, 923, 767, 645, 613, 698, 1250, 1288, 594, 1096, 1154, 924, 664, 1137, 1116, 1289, 998, 595, 734, 1035, 1155, 646, 1229, 942, 647, 1302, 828, 1303, 880, 975]\n",
      "97 0.9072884578162177 [286, 1327, 1330, 1326, 1322, 302, 305, 304, 1260, 291, 1208, 303, 1074, 1034, 1114, 954, 1017, 955, 920, 611, 1134, 1018, 366, 1268, 921, 296, 364, 348, 712, 1054, 1188, 1094, 1135, 1168, 1209, 746, 1075, 1020, 1076, 860, 365, 612, 732, 940, 1228, 941, 1210, 974, 1115, 1248, 1077, 747, 1021, 733, 766, 1095, 1078, 1249, 644, 826, 1136, 748, 997, 358, 827, 751, 922, 923, 767, 645, 613, 698, 1250, 1288, 594, 1096, 1154, 924, 664, 1137, 1116, 1289, 998, 595, 734, 1035, 1155, 646, 1229, 942, 647, 1302, 828, 1303, 880, 975, 846]\n",
      "98 0.9072572860385218 [286, 1327, 1330, 1326, 1322, 302, 305, 304, 1260, 291, 1208, 303, 1074, 1034, 1114, 954, 1017, 955, 920, 611, 1134, 1018, 366, 1268, 921, 296, 364, 348, 712, 1054, 1188, 1094, 1135, 1168, 1209, 746, 1075, 1020, 1076, 860, 365, 612, 732, 940, 1228, 941, 1210, 974, 1115, 1248, 1077, 747, 1021, 733, 766, 1095, 1078, 1249, 644, 826, 1136, 748, 997, 358, 827, 751, 922, 923, 767, 645, 613, 698, 1250, 1288, 594, 1096, 1154, 924, 664, 1137, 1116, 1289, 998, 595, 734, 1035, 1155, 646, 1229, 942, 647, 1302, 828, 1303, 880, 975, 846, 1189]\n",
      "99 0.9073344105587661 [286, 1327, 1330, 1326, 1322, 302, 305, 304, 1260, 291, 1208, 303, 1074, 1034, 1114, 954, 1017, 955, 920, 611, 1134, 1018, 366, 1268, 921, 296, 364, 348, 712, 1054, 1188, 1094, 1135, 1168, 1209, 746, 1075, 1020, 1076, 860, 365, 612, 732, 940, 1228, 941, 1210, 974, 1115, 1248, 1077, 747, 1021, 733, 766, 1095, 1078, 1249, 644, 826, 1136, 748, 997, 358, 827, 751, 922, 923, 767, 645, 613, 698, 1250, 1288, 594, 1096, 1154, 924, 664, 1137, 1116, 1289, 998, 595, 734, 1035, 1155, 646, 1229, 942, 647, 1302, 828, 1303, 880, 975, 846, 1189, 1117]\n",
      "100 0.9072375922210206 [286, 1327, 1330, 1326, 1322, 302, 305, 304, 1260, 291, 1208, 303, 1074, 1034, 1114, 954, 1017, 955, 920, 611, 1134, 1018, 366, 1268, 921, 296, 364, 348, 712, 1054, 1188, 1094, 1135, 1168, 1209, 746, 1075, 1020, 1076, 860, 365, 612, 732, 940, 1228, 941, 1210, 974, 1115, 1248, 1077, 747, 1021, 733, 766, 1095, 1078, 1249, 644, 826, 1136, 748, 997, 358, 827, 751, 922, 923, 767, 645, 613, 698, 1250, 1288, 594, 1096, 1154, 924, 664, 1137, 1116, 1289, 998, 595, 734, 1035, 1155, 646, 1229, 942, 647, 1302, 828, 1303, 880, 975, 846, 1189, 1117, 881]\n"
     ]
    }
   ],
   "source": [
    "tmp_des = sta_path_ste_ele_des[:]\n",
    "tmp_label = labels_std[:]\n",
    "\n",
    "des_sel_max = tmp_des.shape[1]\n",
    "model = RandomForestRegressor(n_jobs=-1)\n",
    "tem_des_sel=[]\n",
    "all_max_r2 = -100\n",
    "ste_ele_best_des_sel = []\n",
    "i = 1\n",
    "max_r2,tem_des_sel_max=circle(des=tmp_des[:],lable=tmp_label[:],\n",
    "                              model= model,des_len=des_sel_max,\n",
    "                              tem_des_sel=tem_des_sel)\n",
    "if max_r2>all_max_r2:\n",
    "    all_max_r2 = max_r2\n",
    "    ste_ele_best_des_sel = tem_des_sel_max\n",
    "\n",
    "result=[]\n",
    "result.append([max_r2,tem_des_sel_max])\n",
    "print(i,max_r2,tem_des_sel_max)\n",
    "\n",
    "with open('dataset_sel'+sep+'ste_ele_des_sel.csv', 'a',newline=\"\") as f:\n",
    "    csv_writer = csv.writer(f)\n",
    "    csv_writer.writerow([i,max_r2,tem_des_sel_max])\n",
    "    \n",
    "i += 1\n",
    "while True:\n",
    "    tem_des_sel=tem_des_sel_max\n",
    "    max_r2,tem_des_sel_max=circle(des=tmp_des[:],lable=tmp_label[:],\n",
    "                                  model= model,des_len=des_sel_max,\n",
    "                                  tem_des_sel=tem_des_sel)\n",
    "    result.append([max_r2,tem_des_sel_max])\n",
    "    print(i,max_r2,tem_des_sel_max)\n",
    "    \n",
    "    with open('dataset_sel'+sep+'ste_ele_des_sel.csv', 'a',newline=\"\") as f:\n",
    "        csv_writer = csv.writer(f)\n",
    "        csv_writer.writerow([i,max_r2,tem_des_sel_max])\n",
    "        \n",
    "    if max_r2>all_max_r2:\n",
    "        all_max_r2 = max_r2\n",
    "        ste_ele_best_des_sel = tem_des_sel_max\n",
    "    if len(tem_des_sel_max)==des_sel_max:\n",
    "        break\n",
    "    else:\n",
    "        i += 1\n",
    "        continue\n",
    "print(ste_ele_best_des_sel)"
   ]
  },
  {
   "cell_type": "code",
   "execution_count": 13,
   "id": "e9891bd3",
   "metadata": {
    "ExecuteTime": {
     "end_time": "2023-05-07T04:24:01.790945Z",
     "start_time": "2023-05-07T04:24:01.787890Z"
    },
    "hidden": true
   },
   "outputs": [],
   "source": [
    "ste_ele_best_des_sel = [286, 1327, 1330, 1326, 1322, 302]"
   ]
  },
  {
   "cell_type": "code",
   "execution_count": 14,
   "id": "581d23b1",
   "metadata": {
    "ExecuteTime": {
     "end_time": "2023-05-07T04:24:03.021672Z",
     "start_time": "2023-05-07T04:24:03.018565Z"
    },
    "hidden": true
   },
   "outputs": [
    {
     "name": "stdout",
     "output_type": "stream",
     "text": [
      "cat_path-9-bv_r3\n",
      "CCS\n",
      "SC1CCCCC1\n",
      "O=C(/N=C/c1ccccc1)c1ccccc1\n",
      "COc1ccc(/C=N/C(=O)c2ccccc2)cc1\n",
      "cat_path-9-fukui_local_nucleophilicity0\n"
     ]
    }
   ],
   "source": [
    "for i in ste_ele_best_des_sel:\n",
    "    print(sta_path_ste_ele_des_name[i])"
   ]
  }
 ],
 "metadata": {
  "kernelspec": {
   "display_name": "cch",
   "language": "python",
   "name": "cch"
  },
  "language_info": {
   "codemirror_mode": {
    "name": "ipython",
    "version": 3
   },
   "file_extension": ".py",
   "mimetype": "text/x-python",
   "name": "python",
   "nbconvert_exporter": "python",
   "pygments_lexer": "ipython3",
   "version": "3.9.16"
  },
  "toc": {
   "base_numbering": 1,
   "nav_menu": {},
   "number_sections": true,
   "sideBar": true,
   "skip_h1_title": false,
   "title_cell": "Table of Contents",
   "title_sidebar": "Contents",
   "toc_cell": false,
   "toc_position": {
    "height": "calc(100% - 180px)",
    "left": "10px",
    "top": "150px",
    "width": "165px"
   },
   "toc_section_display": true,
   "toc_window_display": true
  },
  "varInspector": {
   "cols": {
    "lenName": 16,
    "lenType": 16,
    "lenVar": 40
   },
   "kernels_config": {
    "python": {
     "delete_cmd_postfix": "",
     "delete_cmd_prefix": "del ",
     "library": "var_list.py",
     "varRefreshCmd": "print(var_dic_list())"
    },
    "r": {
     "delete_cmd_postfix": ") ",
     "delete_cmd_prefix": "rm(",
     "library": "var_list.r",
     "varRefreshCmd": "cat(var_dic_list()) "
    }
   },
   "types_to_exclude": [
    "module",
    "function",
    "builtin_function_or_method",
    "instance",
    "_Feature"
   ],
   "window_display": false
  }
 },
 "nbformat": 4,
 "nbformat_minor": 5
}
